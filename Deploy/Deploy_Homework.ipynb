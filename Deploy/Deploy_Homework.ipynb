{
  "cells": [
    {
      "cell_type": "markdown",
      "metadata": {
        "id": "NGGrt9EYlCqY"
      },
      "source": [
        "\n",
        "\n",
        "\n",
        "# *Data Science Unit 4 Sprint 2 Assignment 4*\n",
        "\n",
        "Continue to use TensorFlow Keras & a sample of the [Quickdraw dataset](https://github.com/googlecreativelab/quickdraw-dataset) to build a sketch classification model. The dataset has been sampled to only 10 classes and 10000 observations per class. Apply regularization techniques to your model.\n",
        "\n",
        "**Don't forget to switch to GPU on Colab!**\n",
        "\n",
        "\n",
        "## Objectives\n",
        "\n",
        "In lecture, you were exposed to several regularization techniques: Lp space regularization, Max Norm weight constraints, and dropout regularization.\n",
        "\n",
        "1: Explore the effects of these regularization techniques on model performance and on the learned model weights.\n",
        "\n",
        "2: Review how to save a model and how to retrieve the saved model from a file.\n",
        "\n",
        "\n",
        "\n"
      ]
    },
    {
      "cell_type": "markdown",
      "metadata": {
        "id": "ptJ2b3wk62Ud"
      },
      "source": [
        "#### Import libraries"
      ]
    },
    {
      "cell_type": "code",
      "execution_count": null,
      "metadata": {
        "id": "USXjs7Hk71Hy",
        "tags": []
      },
      "outputs": [],
      "source": [
        "# native libraries\n",
        "import os\n",
        "from time import time\n",
        "\n",
        "# data analysis libraries\n",
        "import numpy as np\n",
        "import pandas as pd\n",
        "import matplotlib.pyplot as plt\n",
        "import seaborn as sns\n",
        "\n",
        "# deep learning libraries\n",
        "import tensorflow as tf\n",
        "from tensorflow.keras import Sequential\n",
        "from tensorflow.keras.callbacks import EarlyStopping, TensorBoard\n",
        "from tensorflow.keras.layers import Flatten, Dense, Dropout\n",
        "from tensorflow.keras.layers import ReLU\n",
        "from tensorflow.keras.initializers import GlorotUniform\n",
        "from tensorflow.keras.utils import get_file\n",
        "\n",
        "\n",
        "\n",
        "# regularizers\n",
        "from tensorflow.keras.regularizers import l2, l1\n",
        "from tensorflow.keras.constraints import max_norm\n",
        "\n",
        "# required for compatibility between sklearn and keras\n",
        "from tensorflow.keras.wrappers.scikit_learn import KerasClassifier\n",
        "\n",
        "from sklearn.model_selection import GridSearchCV\n",
        "from sklearn.model_selection import train_test_split\n",
        "\n",
        "# native python unit test library\n",
        "from unittest import TestCase\n",
        "\n",
        "%matplotlib inline"
      ]
    },
    {
      "cell_type": "markdown",
      "metadata": {
        "id": "nDjNx1aVBfGU"
      },
      "source": [
        "-----\n",
        "# Part 1: GridSearch Experiments\n",
        "\n",
        "The next set of experiments will involve gridsearching regularization parameter values.\n",
        "\n",
        "The rest of the notebook will actually require very little coding on your part. Instead, the focus is for you to run those gridsearches and answer the questions at the end of each experiment. Those questions are designed to help you capture the insights that there are to learn from each of the experiments.\n",
        "\n",
        "All of the following experiments are designed to help you better understand the relationship between the various regularization techniques and how they affect model performance.\n",
        "\n",
        "\n",
        "### Build Model\n",
        "\n",
        "Let's build out the model that we'll be using all throughout our experiments.\n",
        "\n",
        "Remember that **the whole point of regularization is to prevent overfitting.**\n",
        "\n",
        "\n",
        "![](https://hackernoon.com/hn-images/1*vuZxFMi5fODz2OEcpG-S1g.png)\n",
        "\n",
        "Overfitting happens when our models are too complex, so in order to see a benefit from the use of regularization techniques we need to build a relatively complex model.\n",
        "\n",
        "Having said that, you might not have the computational resource to be able to train a complex model in a reasonable amount of time. So if this describes you, then you might want to consider using `build_simple_model`. Otherwise, use `build_complex_model`.\n",
        "\n",
        "In this notebook, we'll use  `build_complex_model` to run our experiments.\n",
        "\n",
        "**NOTE:** Whichever function you end up using to build a model, take time to read through the code and make sure you understand what is happening."
      ]
    },
    {
      "cell_type": "markdown",
      "metadata": {
        "id": "BhyxXDgXfuHs"
      },
      "source": [
        "### Load the `quickdraw10` data set\n",
        "using code provided in the Module 3 assignment."
      ]
    },
    {
      "cell_type": "code",
      "execution_count": null,
      "metadata": {
        "id": "9m7GEmeWfzYr",
        "tags": []
      },
      "outputs": [],
      "source": [
        "data = np.load('quickdraw10.npz')"
      ]
    },
    {
      "cell_type": "code",
      "execution_count": null,
      "metadata": {
        "tags": [],
        "id": "h4jlWQQhIJty"
      },
      "outputs": [],
      "source": [
        "X = data['arr_0']/255\n",
        "y = data['arr_1']\n",
        "X_train, X_test, y_train, y_test = train_test_split(X, y, shuffle=True)"
      ]
    },
    {
      "cell_type": "markdown",
      "metadata": {
        "id": "X3qyAkpDf2Uz"
      },
      "source": [
        "### Build the model"
      ]
    },
    {
      "cell_type": "code",
      "execution_count": null,
      "metadata": {
        "id": "Rl7fR1Vvqauv",
        "tags": []
      },
      "outputs": [],
      "source": [
        "def build_complex_model(Lp_reg=None, reg_penalty=None, dropout_prob=0.0, maxnorm_wc=None):\n",
        "    \"\"\"\n",
        "    Build and return a regularized 3 hidden layer FCFF model\n",
        "\n",
        "    Parameters\n",
        "    ----------\n",
        "    Lp_reg: None or object\n",
        "        If object, Lp_reg is either l1 or l2 regularization\n",
        "        If None, that means that l1 or l2 regularization will not be used.\n",
        "\n",
        "    reg_penalty: None or float\n",
        "        If float, reg_penalty is a value typically between 1.0 and 0.0001\n",
        "        This is the regularization strength for l1 or l2\n",
        "\n",
        "\n",
        "    dropout_prob: float\n",
        "        This is the probability that dropout regularization will exclude a node from a training iteration.\n",
        "        If this value is 0.0, that means that dropout will not be used.\n",
        "\n",
        "    maxnorm_wc: None or float\n",
        "        If float, maxnorm_wc is the weight constraint that is used for Max Norm regularization\n",
        "        If None, that means that Max Norm regularization will not be used.\n",
        "\n",
        "\n",
        "    Return\n",
        "    ------\n",
        "    model: compiled Keras model\n",
        "    \"\"\"\n",
        "\n",
        "    # specify the input size\n",
        "    input_dim = 784\n",
        "\n",
        "    # specify the number of neurons in the output layer\n",
        "    n_output = 10\n",
        "\n",
        "    # if reg_type is not None, then pass in the penalty strength to whatever form of Lp space regularization this is\n",
        "    if Lp_reg is not None:\n",
        "        Lp_regularizer = Lp_reg(reg_penalty)\n",
        "    else:\n",
        "        Lp_regularizer = None\n",
        "\n",
        "    if maxnorm_wc is not None:\n",
        "        wc = max_norm(maxnorm_wc)\n",
        "    else:\n",
        "        wc = None\n",
        "\n",
        "\n",
        "    # instantiate Sequential class\n",
        "    model = Sequential([\n",
        "\n",
        "    # hidden layer 1\n",
        "    Dense(500, kernel_regularizer=Lp_regularizer , kernel_constraint=wc, input_dim=input_dim), # remember that Keras refers to weight matrix as a kernel, i.e. weights = kernel\n",
        "    # act func 1\n",
        "    ReLU(negative_slope=0.01),\n",
        "    Dropout(dropout_prob),\n",
        "\n",
        "    # hidden layer 2\n",
        "    Dense(250, kernel_regularizer=Lp_regularizer, kernel_constraint=wc),\n",
        "    # act func 2\n",
        "    ReLU(negative_slope=0.01),\n",
        "    Dropout(dropout_prob),\n",
        "\n",
        "    # hidden layer 3\n",
        "    Dense(100, kernel_regularizer=Lp_regularizer, kernel_constraint=wc),\n",
        "    # act func 3\n",
        "    ReLU(negative_slope=0.01),\n",
        "    Dropout(dropout_prob),\n",
        "\n",
        "    # output layer\n",
        "    Dense(n_output, activation=\"softmax\")\n",
        "\n",
        "    ])\n",
        "    # compile model\n",
        "    model.compile(loss=\"sparse_categorical_crossentropy\",\n",
        "                 optimizer=\"adam\",\n",
        "                 metrics=[\"accuracy\"])\n",
        "\n",
        "    return model"
      ]
    },
    {
      "cell_type": "markdown",
      "metadata": {
        "id": "Tf7sg_qWBfGV"
      },
      "source": [
        "Again, only use `build_simple_model` instead of `build_complex_model` if you're working on a machine with very limited computational resources."
      ]
    },
    {
      "cell_type": "code",
      "execution_count": null,
      "metadata": {
        "id": "2ZDOyeFUBfGV"
      },
      "outputs": [],
      "source": [
        "def build_simple_model(Lp_reg=None, reg_penalty=None, dropout_prob=0, maxnorm_wc=None):\n",
        "#     \"\"\"\n",
        "#     Build and return a regularized 1 hidden layer FCFF model\n",
        "\n",
        "#     Parameters\n",
        "#     ----------\n",
        "#     Lp_reg: None or object\n",
        "#         If object, Lp_reg is either l1 or l2 regularization\n",
        "#         If None, that means that l1 or l2 regularization will not be used.\n",
        "\n",
        "#     reg_penalty: None or float\n",
        "#         If float, reg_penalty is a value typically between 1.0 and 0.0001\n",
        "#         This is the regularization strength for l1 or l2\n",
        "\n",
        "\n",
        "#     dropout_prob: float\n",
        "#         This is the probability that dropout regularization will exclude a node from a training iteration.\n",
        "#         If this value is 0.0, that means that dropout will not be used.\n",
        "\n",
        "#     maxnorm_wc: None or float\n",
        "#         If float, maxnorm_wc is the weight constraint that is used for Max Norm regularization\n",
        "#         If None, that means that Max Norm regularization will not be used.\n",
        "\n",
        "\n",
        "#     Return\n",
        "#     ------\n",
        "#     model: compiled Keras model\n",
        "#     \"\"\"\n",
        "\n",
        "#    # specify the input size\n",
        "    # input_dim = #YOUR CODE HERE\n",
        "\n",
        "#    # specify the number of neurons in the output layer\n",
        "    # n_output = #YOUR CODE HERE\n",
        "\n",
        "    # if Lp_reg is not None:\n",
        "    #     Lp_regularizer = Lp_reg(reg_penalty)\n",
        "    # else:\n",
        "    #     Lp_regularizer = None\n",
        "\n",
        "    # # instantiate Sequential class\n",
        "    # model = Sequential([\n",
        "\n",
        "    # # hidden layer 1\n",
        "    # Dense(128,  kernel_regularizer=Lp_regularizer, kernel_constraint=maxnorm_wc, input_dim=input_dim), # remember that Keras refers to weight matrix as a kernel, i.e. weights = kernel\n",
        "    # # act func 1\n",
        "    # ReLU(negative_slope=0.01),\n",
        "    # Dropout(p_dropout),\n",
        "\n",
        "    # # output layer\n",
        "    # Dense(n_output, activation=\"softmax\")\n",
        "\n",
        "    # ])\n",
        "    # compile model\n",
        "    # model.compile(loss=\"sparse_categorical_crossentropy\",\n",
        "    #              optimizer=\"adam\",\n",
        "    #              metrics=[\"accuracy\"])\n",
        "\n",
        "    # return model"
      ]
    },
    {
      "cell_type": "markdown",
      "metadata": {
        "id": "RIAKpcTEBfGW"
      },
      "source": [
        "Since we'll be using sklearn's `GridsearchCV` class, we need to wrap our Keras models in `KerasClassifier`"
      ]
    },
    {
      "cell_type": "code",
      "execution_count": null,
      "metadata": {
        "colab": {
          "base_uri": "https://localhost:8080/"
        },
        "id": "IstAk4cgeOsX",
        "outputId": "ab6d12b0-948d-483a-fdfe-c2e8c480b521",
        "tags": []
      },
      "outputs": [
        {
          "name": "stderr",
          "output_type": "stream",
          "text": [
            "/var/folders/l5/9b73nm7x0d5bz481kpj_k3640000gn/T/ipykernel_11119/3125094897.py:2: DeprecationWarning: KerasClassifier is deprecated, use Sci-Keras (https://github.com/adriangb/scikeras) instead. See https://www.adriangb.com/scikeras/stable/migration.html for help migrating.\n",
            "  model = KerasClassifier(build_fn = build_complex_model)\n"
          ]
        }
      ],
      "source": [
        "# wrap KerasClassifier around build_model for compatibility with sklearn GridsearchCV\n",
        "model = KerasClassifier(build_fn = build_complex_model)"
      ]
    },
    {
      "cell_type": "markdown",
      "metadata": {
        "id": "6LJi-YVMBfGW"
      },
      "source": [
        "-------\n",
        "\n",
        "# Experiment 1: Identify the relationship between model performance and L2 penalty strength\n",
        "\n",
        "![](https://www.researchgate.net/publication/334159821/figure/fig1/AS:776025558495234@1562030319993/Ridge-regression-variable-selection.png)\n",
        "\n",
        "_Note: <br>\n",
        "In the right panel of the above diagram, **SSE** <br>\n",
        "stands for \"Sum of Squared Errors\".<br>\n",
        "In the left panel, **ESS** is a typo that should read **SSE**._<br>\n",
        "\n",
        "We are going to run a gridsearch solely on the L2 regularization penalty value and see the effect this has on model performance.\n",
        "\n",
        "By running a gridseach on only a single hyperparameter (while using the same data and model) we can isolate the effect of that hyperparameter. <br><br>\n"
      ]
    },
    {
      "cell_type": "code",
      "execution_count": null,
      "metadata": {
        "id": "dxJ5Bc6HF2C0",
        "tags": []
      },
      "outputs": [],
      "source": [
        "# build out our hyperparameter dictionary\n",
        "hyper_parameters = {\n",
        "    # take note that Lp_reg penalty/strength values are in powers of 10\n",
        "    \"reg_penalty\": [10.0, 1.0, 0.1, 0.01, 0.001, 0.0001, 0.00001],\n",
        "    # Since we only want to test l2, provide l2 as the sole option\n",
        "    \"Lp_reg\": [l2],\n",
        "    # default is 1, in order to change it we must provide value here because we can't provide a parameter value for model.fit() directly when using gridsearch\n",
        "    # protip: consider changing epochs to 1 if the gridsearch run-time is too long for you\n",
        "    \"epochs\": [3]\n",
        "}"
      ]
    },
    {
      "cell_type": "code",
      "execution_count": null,
      "metadata": {
        "id": "qMRyjO6Gbl5I",
        "scrolled": true,
        "tags": [],
        "outputId": "4dca5933-f05b-447d-dc12-584add6dfa85"
      },
      "outputs": [
        {
          "name": "stdout",
          "output_type": "stream",
          "text": [
            "Fitting 3 folds for each of 7 candidates, totalling 21 fits\n"
          ]
        },
        {
          "name": "stderr",
          "output_type": "stream",
          "text": [
            "2023-08-26 19:09:29.119274: W tensorflow/tsl/platform/profile_utils/cpu_utils.cc:128] Failed to get CPU frequency: 0 Hz\n",
            "2023-08-26 19:09:29.119274: W tensorflow/tsl/platform/profile_utils/cpu_utils.cc:128] Failed to get CPU frequency: 0 Hz\n",
            "2023-08-26 19:09:29.119276: W tensorflow/tsl/platform/profile_utils/cpu_utils.cc:128] Failed to get CPU frequency: 0 Hz\n",
            "2023-08-26 19:09:29.119274: W tensorflow/tsl/platform/profile_utils/cpu_utils.cc:128] Failed to get CPU frequency: 0 Hz\n",
            "2023-08-26 19:09:29.120762: W tensorflow/tsl/platform/profile_utils/cpu_utils.cc:128] Failed to get CPU frequency: 0 Hz\n",
            "2023-08-26 19:09:29.128917: W tensorflow/tsl/platform/profile_utils/cpu_utils.cc:128] Failed to get CPU frequency: 0 Hz\n"
          ]
        },
        {
          "name": "stdout",
          "output_type": "stream",
          "text": [
            "Epoch 1/3\n",
            "Epoch 1/3\n",
            "Epoch 1/3\n",
            "Epoch 1/3\n",
            "Epoch 1/3\n",
            "Epoch 1/3\n",
            "1563/1563 [==============================] - 7s 5ms/step - loss: 18.6427 - accuracy: 0.1053\n",
            "Epoch 2/3\n",
            "1563/1563 [==============================] - 8s 5ms/step - loss: 165.8474 - accuracy: 0.1008\n",
            "1510/1563 [===========================>..] - ETA: 0s - loss: 171.7995 - accuracy: 0.1021Epoch 2/3\n",
            "1563/1563 [==============================] - 8s 5ms/step - loss: 18.6587 - accuracy: 0.1048\n",
            "1547/1563 [============================>.] - ETA: 0s - loss: 167.3805 - accuracy: 0.1022Epoch 2/3\n",
            "1563/1563 [==============================] - 8s 5ms/step - loss: 18.6940 - accuracy: 0.1037\n",
            "Epoch 2/3\n",
            "1563/1563 [==============================] - 8s 5ms/step - loss: 165.7429 - accuracy: 0.1024\n",
            "Epoch 2/3\n",
            "1563/1563 [==============================] - 8s 5ms/step - loss: 166.1043 - accuracy: 0.1020\n",
            "Epoch 2/3\n",
            "1563/1563 [==============================] - 7s 5ms/step - loss: 2.3027 - accuracy: 0.1014\n",
            "1519/1563 [============================>.] - ETA: 0s - loss: 2.3029 - accuracy: 0.0992Epoch 3/3\n",
            "1563/1563 [==============================] - 7s 5ms/step - loss: 2.3028 - accuracy: 0.0995\n",
            "Epoch 3/3\n",
            "1563/1563 [==============================] - 7s 5ms/step - loss: 2.3029 - accuracy: 0.0992\n",
            "Epoch 3/3\n",
            "1563/1563 [==============================] - 7s 5ms/step - loss: 2.3028 - accuracy: 0.0980\n",
            "Epoch 3/3\n",
            "1563/1563 [==============================] - 7s 5ms/step - loss: 2.3028 - accuracy: 0.0997\n",
            "Epoch 3/3\n",
            "1563/1563 [==============================] - 8s 5ms/step - loss: 2.3029 - accuracy: 0.1001\n",
            "Epoch 3/3\n",
            "1563/1563 [==============================] - 7s 5ms/step - loss: 2.3028 - accuracy: 0.0996\n",
            "1563/1563 [==============================] - 7s 5ms/step - loss: 2.3028 - accuracy: 0.0986\n",
            "1563/1563 [==============================] - 7s 5ms/step - loss: 2.3029 - accuracy: 0.1007\n",
            "1563/1563 [==============================] - 8s 5ms/step - loss: 2.3028 - accuracy: 0.0999\n",
            "1563/1563 [==============================] - 8s 5ms/step - loss: 2.3030 - accuracy: 0.1007\n",
            "1563/1563 [==============================] - 8s 5ms/step - loss: 2.3030 - accuracy: 0.0982\n",
            "782/782 [==============================] - 1s 2ms/step - loss: 2.3034 - accuracy: 0.0975\n",
            "782/782 [==============================] - 2s 2ms/step - loss: 2.3030 - accuracy: 0.0986\n",
            "782/782 [==============================] - 2s 2ms/step - loss: 2.3028 - accuracy: 0.0991\n",
            "738/782 [===========================>..] - ETA: 0s - loss: 2.3028 - accuracy: 0.0977Epoch 1/3\n",
            "782/782 [==============================] - 2s 2ms/step - loss: 2.3029 - accuracy: 0.0975\n",
            "694/782 [=========================>....] - ETA: 0s - loss: 2.3030 - accuracy: 0.0972Epoch 1/3\n",
            "  18/1563 [..............................] - ETA: 4s - loss: 81.7696 - accuracy: 0.2569   Epoch 1/3\n",
            "782/782 [==============================] - 2s 2ms/step - loss: 2.3030 - accuracy: 0.0966\n",
            "746/782 [===========================>..] - ETA: 0s - loss: 2.3030 - accuracy: 0.0985Epoch 1/3\n",
            "782/782 [==============================] - 2s 2ms/step - loss: 2.3030 - accuracy: 0.0986\n",
            " 102/1563 [>.............................] - ETA: 5s - loss: 27.4554 - accuracy: 0.3539Epoch 1/3\n",
            "  74/1563 [>.............................] - ETA: 7s - loss: 36.2004 - accuracy: 0.4117Epoch 1/3\n",
            "1563/1563 [==============================] - 7s 5ms/step - loss: 3.6498 - accuracy: 0.3913\n",
            "Epoch 2/3\n",
            "1563/1563 [==============================] - 7s 5ms/step - loss: 3.6256 - accuracy: 0.4591\n",
            "Epoch 2/3\n",
            "1563/1563 [==============================] - 7s 5ms/step - loss: 3.6284 - accuracy: 0.3928\n",
            "Epoch 2/3\n",
            "1563/1563 [==============================] - 7s 5ms/step - loss: 1.6564 - accuracy: 0.7332\n",
            "Epoch 2/3\n",
            "1563/1563 [==============================] - 7s 4ms/step - loss: 1.6377 - accuracy: 0.7327\n",
            "Epoch 2/3\n",
            "1563/1563 [==============================] - 7s 5ms/step - loss: 1.6435 - accuracy: 0.7284\n",
            "Epoch 2/3\n",
            "1563/1563 [==============================] - 7s 4ms/step - loss: 1.6914 - accuracy: 0.5689\n",
            "Epoch 3/3\n",
            "1563/1563 [==============================] - 7s 5ms/step - loss: 1.7889 - accuracy: 0.4743\n",
            "Epoch 3/3\n",
            "1563/1563 [==============================] - 7s 5ms/step - loss: 1.7742 - accuracy: 0.4510\n",
            "Epoch 3/3\n",
            "1563/1563 [==============================] - 7s 5ms/step - loss: 1.0442 - accuracy: 0.7812\n",
            "Epoch 3/3\n",
            "1563/1563 [==============================] - 7s 5ms/step - loss: 1.0342 - accuracy: 0.7805\n",
            "Epoch 3/3\n",
            "1563/1563 [==============================] - 7s 5ms/step - loss: 1.0407 - accuracy: 0.7794\n",
            "Epoch 3/3\n",
            "1563/1563 [==============================] - 7s 5ms/step - loss: 1.6063 - accuracy: 0.5898\n",
            "1563/1563 [==============================] - 7s 5ms/step - loss: 1.7077 - accuracy: 0.5203\n",
            "1563/1563 [==============================] - 7s 5ms/step - loss: 0.9559 - accuracy: 0.7975\n",
            "1563/1563 [==============================] - 7s 5ms/step - loss: 1.7093 - accuracy: 0.5074\n",
            "1563/1563 [==============================] - 7s 5ms/step - loss: 0.9542 - accuracy: 0.7988\n",
            "1563/1563 [==============================] - 7s 5ms/step - loss: 0.9610 - accuracy: 0.7924\n",
            "782/782 [==============================] - 1s 2ms/step - loss: 1.5616 - accuracy: 0.6198\n",
            "443/782 [===============>..............] - ETA: 0s - loss: 0.9369 - accuracy: 0.7980Epoch 1/3\n",
            "782/782 [==============================] - 1s 2ms/step - loss: 1.6668 - accuracy: 0.5320\n",
            " 112/1563 [=>............................] - ETA: 4s - loss: 2.0218 - accuracy: 0.6328Epoch 1/3\n",
            "782/782 [==============================] - 1s 2ms/step - loss: 0.9318 - accuracy: 0.8011\n",
            "782/782 [==============================] - 1s 2ms/step - loss: 0.9241 - accuracy: 0.8008\n",
            " 172/1563 [==>...........................] - ETA: 4s - loss: 1.8413 - accuracy: 0.6721Epoch 1/3\n",
            "  92/1563 [>.............................] - ETA: 4s - loss: 2.0664 - accuracy: 0.6148Epoch 1/3\n",
            "782/782 [==============================] - 1s 2ms/step - loss: 0.9186 - accuracy: 0.8088\n",
            "  76/1563 [>.............................] - ETA: 4s - loss: 1.3845 - accuracy: 0.5822Epoch 1/3\n",
            "1563/1563 [==============================] - 7s 4ms/step - loss: 1.1007 - accuracy: 0.7890\n",
            "Epoch 2/3\n",
            "1563/1563 [==============================] - 7s 4ms/step - loss: 1.1106 - accuracy: 0.7904\n",
            "Epoch 2/3\n",
            "1563/1563 [==============================] - 6s 4ms/step - loss: 1.1130 - accuracy: 0.7894\n",
            "Epoch 2/3\n",
            "1563/1563 [==============================] - 7s 4ms/step - loss: 0.7497 - accuracy: 0.8011\n",
            "Epoch 2/3\n",
            "1563/1563 [==============================] - 6s 4ms/step - loss: 0.7596 - accuracy: 0.7966\n",
            "Epoch 2/3\n",
            "1563/1563 [==============================] - 6s 4ms/step - loss: 0.7467 - accuracy: 0.8409\n",
            "Epoch 3/3\n",
            "1563/1563 [==============================] - 6s 4ms/step - loss: 0.7492 - accuracy: 0.8389\n",
            "Epoch 3/3\n",
            "1563/1563 [==============================] - 6s 4ms/step - loss: 0.7455 - accuracy: 0.8404\n",
            "Epoch 3/3\n",
            "1563/1563 [==============================] - 6s 4ms/step - loss: 0.5617 - accuracy: 0.8613\n",
            "Epoch 3/3\n",
            "1563/1563 [==============================] - 6s 4ms/step - loss: 0.5719 - accuracy: 0.8590\n",
            "  40/1563 [..............................] - ETA: 6s - loss: 0.4970 - accuracy: 0.9000Epoch 3/3\n",
            "1563/1563 [==============================] - 6s 4ms/step - loss: 0.6669 - accuracy: 0.8554\n",
            "782/782 [==============================] - 1s 1ms/step - loss: 1.6922 - accuracy: 0.5578\n",
            "1563/1563 [==============================] - 6s 4ms/step - loss: 0.6678 - accuracy: 0.8539\n",
            "1395/1563 [=========================>....] - ETA: 0s - loss: 0.5061 - accuracy: 0.8815Epoch 1/3\n",
            "1563/1563 [==============================] - 7s 4ms/step - loss: 0.6639 - accuracy: 0.8548\n",
            "782/782 [==============================] - 1s 2ms/step - loss: 0.6648 - accuracy: 0.8541\n",
            "1563/1563 [==============================] - 7s 4ms/step - loss: 0.5065 - accuracy: 0.8810\n",
            "1563/1563 [==============================] - 7s 4ms/step - loss: 0.4993 - accuracy: 0.8827\n",
            " 205/1563 [==>...........................] - ETA: 5s - loss: 1.0804 - accuracy: 0.6909Epoch 1/3\n",
            "782/782 [==============================] - 1s 2ms/step - loss: 0.6879 - accuracy: 0.8459\n",
            "782/782 [==============================] - 1s 2ms/step - loss: 0.6632 - accuracy: 0.8511\n",
            "497/782 [==================>...........] - ETA: 0s - loss: 0.5615 - accuracy: 0.8667Epoch 1/3\n",
            "  21/1563 [..............................] - ETA: 4s - loss: 1.7339 - accuracy: 0.4390  Epoch 1/3\n",
            "782/782 [==============================] - 1s 2ms/step - loss: 0.5635 - accuracy: 0.8671\n",
            "782/782 [==============================] - 1s 2ms/step - loss: 0.5866 - accuracy: 0.8618\n",
            "1563/1563 [==============================] - 6s 4ms/step - loss: 0.7523 - accuracy: 0.8004\n",
            "Epoch 2/3\n",
            "1563/1563 [==============================] - 6s 4ms/step - loss: 0.6584 - accuracy: 0.8012\n",
            "Epoch 2/3\n",
            "1563/1563 [==============================] - 6s 4ms/step - loss: 0.6613 - accuracy: 0.7997\n",
            "  92/1563 [>.............................] - ETA: 5s - loss: 0.4641 - accuracy: 0.8645Epoch 2/3\n",
            "1563/1563 [==============================] - 6s 4ms/step - loss: 0.6655 - accuracy: 0.7968\n",
            "Epoch 2/3\n",
            "1563/1563 [==============================] - 5s 3ms/step - loss: 0.5676 - accuracy: 0.8598\n",
            "Epoch 3/3\n",
            "1563/1563 [==============================] - 6s 4ms/step - loss: 0.4573 - accuracy: 0.8647\n",
            "Epoch 3/3\n",
            "1563/1563 [==============================] - 5s 3ms/step - loss: 0.4653 - accuracy: 0.8627\n",
            "Epoch 3/3\n",
            "1563/1563 [==============================] - 6s 4ms/step - loss: 0.4638 - accuracy: 0.8636\n",
            "Epoch 3/3\n",
            "1563/1563 [==============================] - 5s 3ms/step - loss: 0.5072 - accuracy: 0.8810\n",
            "782/782 [==============================] - 1s 1ms/step - loss: 0.5765 - accuracy: 0.8604\n",
            "1563/1563 [==============================] - 6s 4ms/step - loss: 0.3803 - accuracy: 0.8887\n",
            "1563/1563 [==============================] - 5s 3ms/step - loss: 0.3809 - accuracy: 0.8897\n",
            "1563/1563 [==============================] - 5s 3ms/step - loss: 0.3829 - accuracy: 0.8888\n",
            "782/782 [==============================] - 1s 1ms/step - loss: 0.4652 - accuracy: 0.8692\n",
            "782/782 [==============================] - 1s 1ms/step - loss: 0.5036 - accuracy: 0.8629\n",
            "782/782 [==============================] - 1s 905us/step - loss: 0.4907 - accuracy: 0.8612\n",
            "Epoch 1/3\n",
            "   1/2344 [..............................] - ETA: 6:09 - loss: 2.3461 - accuracy: 0.2188"
          ]
        },
        {
          "name": "stderr",
          "output_type": "stream",
          "text": [
            "2023-08-26 19:10:56.243475: W tensorflow/tsl/platform/profile_utils/cpu_utils.cc:128] Failed to get CPU frequency: 0 Hz\n"
          ]
        },
        {
          "name": "stdout",
          "output_type": "stream",
          "text": [
            "2344/2344 [==============================] - 5s 2ms/step - loss: 0.6154 - accuracy: 0.8167\n",
            "Epoch 2/3\n",
            "2344/2344 [==============================] - 5s 2ms/step - loss: 0.4374 - accuracy: 0.8723\n",
            "Epoch 3/3\n",
            "2344/2344 [==============================] - 5s 2ms/step - loss: 0.3738 - accuracy: 0.8939\n"
          ]
        }
      ],
      "source": [
        "start=time()\n",
        "# takes about 7 min on Colab with GPU\n",
        "# Create and run Grid Search\n",
        "grid = GridSearchCV(estimator=model,\n",
        "                    param_grid=hyper_parameters,\n",
        "                    n_jobs=-3,\n",
        "                    verbose=1,\n",
        "                    cv=3)\n",
        "\n",
        "grid_result = grid.fit(X_train, y_train)\n",
        "end=time()"
      ]
    },
    {
      "cell_type": "code",
      "execution_count": null,
      "metadata": {
        "id": "DZb-QpxvBfGX",
        "tags": [],
        "outputId": "9d42c079-fe0d-47ec-ad11-81b0395f3e30"
      },
      "outputs": [
        {
          "name": "stdout",
          "output_type": "stream",
          "text": [
            "Gridsearch runtime 1.77 mins\n"
          ]
        }
      ],
      "source": [
        "print(\"Gridsearch runtime {0:.3} mins\".format( (end-start)/60 ))"
      ]
    },
    {
      "cell_type": "code",
      "execution_count": null,
      "metadata": {
        "id": "FS1Vlh21BfGY",
        "tags": [],
        "outputId": "b8722388-5da8-4843-d77c-9fef591443b1"
      },
      "outputs": [
        {
          "data": {
            "image/png": "[encoded data removed]",
            "text/plain": [
              "<Figure size 2000x600 with 1 Axes>"
            ]
          },
          "metadata": {},
          "output_type": "display_data"
        }
      ],
      "source": [
        "# use the mean accuracy from the CV splits for determining best model score\n",
        "means = grid_result.cv_results_['mean_test_score']\n",
        "stds = grid_result.cv_results_['std_test_score']\n",
        "params = grid_result.cv_results_['params']\n",
        "\n",
        "# move l2 penalty values outside of dictionary and into a list\n",
        "param_values = [param_dict[\"reg_penalty\"] for param_dict in params]\n",
        "\n",
        "# plot accuracy vs l2_reg_penalty\n",
        "plt.figure(figsize=(20,6))\n",
        "plt.grid()\n",
        "\n",
        "# this plot is using the std of the CV splits to plot error bars however those values are so small that they aren't visable\n",
        "plt.errorbar(param_values, means, yerr=stds, ecolor=\"orange\")\n",
        "plt.xscale(\"log\") # use a log scale for ease of reading, recall that l2_reg_penalty were in powers of 10\n",
        "plt.title(\"L2 Regularization: Model Accuracy vs L2 Penalty Strength\")\n",
        "plt.ylabel(\"Validation Accuracy\", )\n",
        "plt.xlabel(\"L2 Penalty Strength usng a Log Scale\");"
      ]
    },
    {
      "cell_type": "markdown",
      "metadata": {
        "id": "Vc4hfY52BfGY"
      },
      "source": [
        "### Observations\n",
        "\n",
        "Write down some observations. What do you notice from the plot?"
      ]
    },
    {
      "cell_type": "markdown",
      "metadata": {
        "deletable": false,
        "id": "G0Z92bfrBfGY",
        "nbgrader": {
          "cell_type": "markdown",
          "checksum": "089b55b5a84d9c96c51fd341d9e6c74f",
          "grade": true,
          "grade_id": "cell-010212fc0915b976",
          "locked": false,
          "points": 0,
          "schema_version": 3,
          "solution": true,
          "task": false
        }
      },
      "source": [
        "Validation accuracy was highest for L2 penalties of 10^-5 and 10^-4, and validation accuracy decreased as the L2 penalty was increased. Penalties of 0.1 and 1 showed especially large drops in performance."
      ]
    },
    {
      "cell_type": "markdown",
      "metadata": {
        "id": "qKoqryhBBfGZ"
      },
      "source": [
        "\n",
        "## Compare Weights between the Best Model and a Worst Model\n",
        "\n",
        "Next, we are going to compare the hidden layer weights between the best and worst performing model while taking note of the respective L2 penalty strengths."
      ]
    },
    {
      "cell_type": "code",
      "execution_count": null,
      "metadata": {
        "id": "4Rb3l6GuBfGZ",
        "tags": []
      },
      "outputs": [],
      "source": [
        "# get the best l2 penalty term\n",
        "best_lr_penalty = grid_result.best_params_[\"reg_penalty\"]\n",
        "\n",
        "# get the best trained model\n",
        "#     a model that is wrapped in the KerasClassifier wrapper doesn't have a .get_weights() method.\n",
        "#     So this is the workaround to generate a version of the model that does have a .get_weights() method\n",
        "best_model = grid_result.best_estimator_.build_fn(Lp_reg=l2, reg_penalty=best_lr_penalty)\n",
        "\n",
        "# get the weights from the best trained model\n",
        "best_weights = best_model.get_weights()"
      ]
    },
    {
      "cell_type": "code",
      "execution_count": null,
      "metadata": {
        "id": "eFxgfRA4BfGZ",
        "tags": [],
        "outputId": "d8a2f7f4-4191-418e-f2d1-397e6e73728e"
      },
      "outputs": [
        {
          "name": "stdout",
          "output_type": "stream",
          "text": [
            "2344/2344 [==============================] - 5s 2ms/step - loss: 111.6154 - accuracy: 0.1016\n"
          ]
        }
      ],
      "source": [
        "# train a model using the l2_reg_penalty value that scored the lowest\n",
        "worse_l2_reg_penalty = 10.0\n",
        "\n",
        "worse_model = build_complex_model(Lp_reg=l2, reg_penalty=worse_l2_reg_penalty)\n",
        "\n",
        "# fit model\n",
        "worse_model.fit(X_train, y_train, epochs=1)\n",
        "\n",
        "# get weights from worst performing model\n",
        "worse_weights = worse_model.get_weights()"
      ]
    },
    {
      "cell_type": "markdown",
      "metadata": {
        "id": "ZJHi51iABfGZ"
      },
      "source": [
        "-----\n",
        "## Understanding how Weights and Biases are stored"
      ]
    },
    {
      "cell_type": "markdown",
      "metadata": {
        "id": "dgo_lKxFBfGZ"
      },
      "source": [
        "Let's take a minute to understand that`.get_weights()` returns a list with 8 elements (if you're using `build_complex_model`)."
      ]
    },
    {
      "cell_type": "code",
      "execution_count": null,
      "metadata": {
        "id": "TMdhtUWRBfGZ",
        "tags": [],
        "outputId": "f1f80522-880d-4166-94cc-8a6791f06197"
      },
      "outputs": [
        {
          "data": {
            "text/plain": [
              "8"
            ]
          },
          "execution_count": 20,
          "metadata": {},
          "output_type": "execute_result"
        }
      ],
      "source": [
        "len(best_weights)"
      ]
    },
    {
      "cell_type": "markdown",
      "metadata": {
        "id": "6raIvOpOBfGa"
      },
      "source": [
        "There are **weights matrices and bias vectors between each layer** and we have 5 layers. The last 4 layers are composed of neurons.\n",
        "\n",
        "- Input\n",
        "- Hidden 1\n",
        "- Hidden 2\n",
        "- Hidden 3\n",
        "- Output\n",
        "\n",
        "So we should have a weight matrix and a bias vector from each neuron layer, <br>which accounts for $4 + 4 = 8$ elements in the list.\n",
        "\n",
        "\n",
        "#### Index for Weight Matrices\n",
        "If you index for a weight matrix, you can see its shape and that they are indeed matrices.\n",
        "\n",
        "Notice how you can see the dims of the layers that the matrices are sandwiched between?\n",
        "\n",
        "The input layer has 784 dims and hidden layer 1 has 500 neurons. <br>\n",
        "So the first weight matrix should have a column of weights for each neuron; and each column has 784 weights.\n",
        "Given this understanding, the numbers you see in the shapes of the weight and bias arrays should make sense."
      ]
    },
    {
      "cell_type": "code",
      "execution_count": null,
      "metadata": {
        "id": "p8Wmj_pjBfGa",
        "tags": [],
        "outputId": "6886a8ec-7c89-457c-dd6e-1f84b08da16d"
      },
      "outputs": [
        {
          "data": {
            "text/plain": [
              "(784, 500)"
            ]
          },
          "execution_count": 21,
          "metadata": {},
          "output_type": "execute_result"
        }
      ],
      "source": [
        "# bewteen input and 1st hidden layer\n",
        "best_weights[0].shape"
      ]
    },
    {
      "cell_type": "code",
      "execution_count": null,
      "metadata": {
        "id": "bRnY8DHHBfGa",
        "tags": [],
        "outputId": "5cb294c0-be50-4dce-d75b-ac3673da301f"
      },
      "outputs": [
        {
          "data": {
            "text/plain": [
              "(500, 250)"
            ]
          },
          "execution_count": 22,
          "metadata": {},
          "output_type": "execute_result"
        }
      ],
      "source": [
        "# bewteen 1st and 2nd hidden layer\n",
        "best_weights[2].shape"
      ]
    },
    {
      "cell_type": "code",
      "execution_count": null,
      "metadata": {
        "id": "aCQ-QZI4BfGb",
        "tags": [],
        "outputId": "51cf9bee-c8fe-4304-ce45-1168050e117a"
      },
      "outputs": [
        {
          "data": {
            "text/plain": [
              "(250, 100)"
            ]
          },
          "execution_count": 23,
          "metadata": {},
          "output_type": "execute_result"
        }
      ],
      "source": [
        "# bewteen 2nd and 3rd hidden layer\n",
        "best_weights[4].shape"
      ]
    },
    {
      "cell_type": "code",
      "execution_count": null,
      "metadata": {
        "id": "LiD6Ij2BBfGb",
        "tags": [],
        "outputId": "00ee546a-dfd9-4b16-b0a3-68f3e0f5edd3"
      },
      "outputs": [
        {
          "data": {
            "text/plain": [
              "(100, 10)"
            ]
          },
          "execution_count": 24,
          "metadata": {},
          "output_type": "execute_result"
        }
      ],
      "source": [
        "# bewteen 3rd hidden layer and output layer\n",
        "best_weights[6].shape"
      ]
    },
    {
      "cell_type": "markdown",
      "metadata": {
        "id": "v9rAIBBuBfGb"
      },
      "source": [
        "#### Index for the bias vectors\n",
        "\n",
        "The shapes of the bias vectors should exactly match up the dims/nodes of each layer (excluding the input layer)."
      ]
    },
    {
      "cell_type": "code",
      "execution_count": null,
      "metadata": {
        "id": "j5c97T5NBfGb",
        "tags": [],
        "outputId": "6aafbfac-aed7-4c1a-ff00-0ce3ebf8ad0d"
      },
      "outputs": [
        {
          "data": {
            "text/plain": [
              "(500,)"
            ]
          },
          "execution_count": 25,
          "metadata": {},
          "output_type": "execute_result"
        }
      ],
      "source": [
        "# for hidden layer 1\n",
        "best_weights[1].shape"
      ]
    },
    {
      "cell_type": "code",
      "execution_count": null,
      "metadata": {
        "id": "YWABwgJgBfGc",
        "tags": [],
        "outputId": "6ed832c6-d642-49aa-da3a-59788ade743c"
      },
      "outputs": [
        {
          "data": {
            "text/plain": [
              "(250,)"
            ]
          },
          "execution_count": 26,
          "metadata": {},
          "output_type": "execute_result"
        }
      ],
      "source": [
        "# for hidden layer 2\n",
        "best_weights[3].shape"
      ]
    },
    {
      "cell_type": "code",
      "execution_count": null,
      "metadata": {
        "id": "juFKoCftBfGc",
        "tags": [],
        "outputId": "00662e98-fcae-4994-8b9c-ef094aa7d18b"
      },
      "outputs": [
        {
          "data": {
            "text/plain": [
              "(100,)"
            ]
          },
          "execution_count": 27,
          "metadata": {},
          "output_type": "execute_result"
        }
      ],
      "source": [
        "# for hidden layer 3\n",
        "best_weights[5].shape"
      ]
    },
    {
      "cell_type": "code",
      "execution_count": null,
      "metadata": {
        "id": "_uul71OiBfGc",
        "tags": [],
        "outputId": "b2d26964-9969-4541-f891-19034e9573f7"
      },
      "outputs": [
        {
          "data": {
            "text/plain": [
              "(10,)"
            ]
          },
          "execution_count": 28,
          "metadata": {},
          "output_type": "execute_result"
        }
      ],
      "source": [
        "# for output layer\n",
        "best_weights[7].shape"
      ]
    },
    {
      "cell_type": "markdown",
      "metadata": {
        "id": "7uwdFhiWBfGc"
      },
      "source": [
        "-----\n",
        "\n",
        "### Back to our Analysis of L2 space regularization (also known as Ridge)\n",
        "\n",
        "To gauge the performance effect of L2 regularization, we'll compare the weights for the 1st hidden layer from the best and worst performing models from our hyperparameter search space, as well as with the initial weight values that are randomly sampled from the GlorotUniform distribution.\n",
        "\n",
        "[**Check out the Keras docs for the Dense layer**](https://keras.io/api/layers/core_layers/dense/), you'll see that GlorotUniform is the default weight initializer.\n",
        "\n",
        "Read the docs to figure out how to get the weights from a Keras dense layer.\n",
        "Also have a look at this helpful post on StackOverflow: [**How to view initialized weights (i.e. before training)?**](https://stackoverflow.com/questions/46798708/how-to-view-initialized-weights-i-e-before-training)\n"
      ]
    },
    {
      "cell_type": "markdown",
      "metadata": {
        "id": "UdmuttujBfGd"
      },
      "source": [
        "Before we compare weights, let's take note of the following.\n",
        "\n",
        "Both `best_weights[0]` or `worse_weights[0]` are matrices with shape `(784, 500)`.\n",
        "\n",
        "If we flatten them, then we get `784 * 500 = 392000` weights. What does this mean exactly?\n",
        "\n",
        "Remember that we are working with the Fully Connected Feed-Forward model which looks something like this.\n",
        "\n",
        "![](https://pyimagesearch.com/wp-content/uploads/2016/08/simple_neural_network_header.jpg)\n",
        "\n",
        "In Fully Connected neural network models, the outputs from a layer become the inputs for the next layer. Each output from a layer is passed as an input to all the nodes in next layer.<br>\n",
        "Our input layer has $784$ output weights which are the pixel values in the image. Each neuron (or node) in hidden layer $1$ also has $784$ weights, one for each pixel input.  Hidden layer 1 has $500$ neurons. So the weights are conveniently represented as a **weights matrix** with $784$ rows (one row for each pixel in the input image) and $500$ columns (one column for each neuron in the layer). The $i$th column of the weights matrix holds the $784$ weights $\\textbf{w}_{i}$ belonging to the $i$th neuron in the layer.\n",
        "\n",
        "To keep our analysis simple, we are going to analyze only the weights corresponding to the first neuron in hidden layer $1$, whose weights $\\textbf{w}_{1}$ are the first column of the weight matrix.  <br><br>\n",
        "\n",
        "We will observe the effect of L2 regularization on neuron 1 in hidden layer 1.\n"
      ]
    },
    {
      "cell_type": "code",
      "execution_count": null,
      "metadata": {
        "deletable": false,
        "id": "xomeoSW4BfGd",
        "nbgrader": {
          "cell_type": "code",
          "checksum": "a3f75126a80a74dd71fb0a9ab2b8b89f",
          "grade": false,
          "grade_id": "cell-7882876b8973bc7b",
          "locked": false,
          "schema_version": 3,
          "solution": true,
          "task": false
        },
        "tags": []
      },
      "outputs": [],
      "source": [
        "# index for the 1st column (784 entries) in the 1st hidden layer weights in best_weights and save to best_hidden_weights\n",
        "\n",
        "# index for the 1st column (784 entries) in the 1st hidden layer weights in worse_weights and save to worse_hidden_weights\n",
        "\n",
        "# Keras models randomly samples from the GlorotUniform distribution for the initial values of model weights\n",
        "# instantiate GlorotUniform and sample 784 weights and save to initial_weight_values\n",
        "\n",
        "# Build a data frame with these 3 vectors as columns\n",
        "\n",
        "# YOUR CODE HERE\n",
        "best_hidden_weights = best_weights[0][0].flatten()\n",
        "worse_hidden_weights = worse_weights[0][0].flatten()\n",
        "glorot = GlorotUniform()\n",
        "initial_weight_values = glorot(shape=(1,500)).numpy().flatten()"
      ]
    },
    {
      "cell_type": "code",
      "execution_count": null,
      "metadata": {
        "id": "zaRHQzP2BfGe",
        "tags": []
      },
      "outputs": [],
      "source": [
        "# move all weights to a dataframe for ease of analysis\n",
        "cols = [\"best_hidden_weights\", \"worse_hidden_weights\", \"initial_weight_values\"]\n",
        "data = [best_hidden_weights, worse_hidden_weights, initial_weight_values]\n",
        "df = pd.DataFrame(data=data).T\n",
        "df.columns = cols"
      ]
    },
    {
      "cell_type": "code",
      "execution_count": null,
      "metadata": {
        "id": "GTxYblbIBfGe",
        "tags": [],
        "outputId": "e133987b-80c0-4bb6-a45d-afbedfbcea63"
      },
      "outputs": [
        {
          "data": {
            "text/html": [
              "<div>\n",
              "<style scoped>\n",
              "    .dataframe tbody tr th:only-of-type {\n",
              "        vertical-align: middle;\n",
              "    }\n",
              "\n",
              "    .dataframe tbody tr th {\n",
              "        vertical-align: top;\n",
              "    }\n",
              "\n",
              "    .dataframe thead th {\n",
              "        text-align: right;\n",
              "    }\n",
              "</style>\n",
              "<table border=\"1\" class=\"dataframe\">\n",
              "  <thead>\n",
              "    <tr style=\"text-align: right;\">\n",
              "      <th></th>\n",
              "      <th>best_hidden_weights</th>\n",
              "      <th>worse_hidden_weights</th>\n",
              "      <th>initial_weight_values</th>\n",
              "    </tr>\n",
              "  </thead>\n",
              "  <tbody>\n",
              "    <tr>\n",
              "      <th>count</th>\n",
              "      <td>500.000000</td>\n",
              "      <td>5.000000e+02</td>\n",
              "      <td>500.000000</td>\n",
              "    </tr>\n",
              "    <tr>\n",
              "      <th>mean</th>\n",
              "      <td>-0.001216</td>\n",
              "      <td>-1.757647e-07</td>\n",
              "      <td>0.001083</td>\n",
              "    </tr>\n",
              "    <tr>\n",
              "      <th>std</th>\n",
              "      <td>0.039529</td>\n",
              "      <td>3.981816e-06</td>\n",
              "      <td>0.061441</td>\n",
              "    </tr>\n",
              "    <tr>\n",
              "      <th>min</th>\n",
              "      <td>-0.067971</td>\n",
              "      <td>-8.902895e-05</td>\n",
              "      <td>-0.108457</td>\n",
              "    </tr>\n",
              "    <tr>\n",
              "      <th>25%</th>\n",
              "      <td>-0.034422</td>\n",
              "      <td>-2.886567e-37</td>\n",
              "      <td>-0.053011</td>\n",
              "    </tr>\n",
              "    <tr>\n",
              "      <th>50%</th>\n",
              "      <td>-0.002175</td>\n",
              "      <td>7.693084e-39</td>\n",
              "      <td>0.002997</td>\n",
              "    </tr>\n",
              "    <tr>\n",
              "      <th>75%</th>\n",
              "      <td>0.032046</td>\n",
              "      <td>3.644943e-37</td>\n",
              "      <td>0.050942</td>\n",
              "    </tr>\n",
              "    <tr>\n",
              "      <th>max</th>\n",
              "      <td>0.068349</td>\n",
              "      <td>8.145597e-07</td>\n",
              "      <td>0.108805</td>\n",
              "    </tr>\n",
              "  </tbody>\n",
              "</table>\n",
              "</div>"
            ],
            "text/plain": [
              "       best_hidden_weights  worse_hidden_weights  initial_weight_values\n",
              "count           500.000000          5.000000e+02             500.000000\n",
              "mean             -0.001216         -1.757647e-07               0.001083\n",
              "std               0.039529          3.981816e-06               0.061441\n",
              "min              -0.067971         -8.902895e-05              -0.108457\n",
              "25%              -0.034422         -2.886567e-37              -0.053011\n",
              "50%              -0.002175          7.693084e-39               0.002997\n",
              "75%               0.032046          3.644943e-37               0.050942\n",
              "max               0.068349          8.145597e-07               0.108805"
            ]
          },
          "execution_count": 55,
          "metadata": {},
          "output_type": "execute_result"
        }
      ],
      "source": [
        "# check out the statistics for each weight column\n",
        "df.describe()"
      ]
    },
    {
      "cell_type": "code",
      "execution_count": null,
      "metadata": {
        "id": "4Np8LOGIBfGe",
        "tags": [],
        "outputId": "2e0ad33f-8842-452f-b996-de00c24d1aff"
      },
      "outputs": [
        {
          "data": {
            "image/png": "[encoded data removed]",
            "text/plain": [
              "<Figure size 2000x1200 with 4 Axes>"
            ]
          },
          "metadata": {},
          "output_type": "display_data"
        }
      ],
      "source": [
        "# plot the distributions for each weight column\n",
        "df.hist(figsize=(20,12));"
      ]
    },
    {
      "cell_type": "markdown",
      "metadata": {
        "id": "PAtwX9QfBfGe"
      },
      "source": [
        "## Observations\n",
        "\n",
        "Take a look at the statistical table and the plots. Then answer the following questions.\n",
        "\n",
        "**How do the hidden layer weights from the best performing model compare to the initial weight values?**"
      ]
    },
    {
      "cell_type": "markdown",
      "metadata": {
        "deletable": false,
        "id": "GcB8C891BfGe",
        "nbgrader": {
          "cell_type": "markdown",
          "checksum": "5eacb66f89b216ae3b4bb3c4b7bd6d38",
          "grade": true,
          "grade_id": "cell-6add7cc400c4c716",
          "locked": false,
          "points": 0,
          "schema_version": 3,
          "solution": true,
          "task": false
        }
      },
      "source": [
        "The distribution is quite similar and within a tight range"
      ]
    },
    {
      "cell_type": "markdown",
      "metadata": {
        "id": "6ssnJofqBfGf"
      },
      "source": [
        "**What was the effect of using a small L2 penalty value (regularization constant)?**"
      ]
    },
    {
      "cell_type": "markdown",
      "metadata": {
        "deletable": false,
        "id": "N3PyRkv_BfGf",
        "nbgrader": {
          "cell_type": "markdown",
          "checksum": "92ac1689b72d727ab7f4d261c5e76daa",
          "grade": true,
          "grade_id": "cell-5b4f11bba2d49639",
          "locked": false,
          "points": 0,
          "schema_version": 3,
          "solution": true,
          "task": false
        }
      },
      "source": [
        "The weights were kept small - similar to the original weights"
      ]
    },
    {
      "cell_type": "markdown",
      "metadata": {
        "id": "_dIM4qL5BfGf"
      },
      "source": [
        "**What was the effect of using a large L2 penalty value?**"
      ]
    },
    {
      "cell_type": "markdown",
      "metadata": {
        "deletable": false,
        "id": "yhaLO6-CBfGf",
        "nbgrader": {
          "cell_type": "markdown",
          "checksum": "3048a6d2805f61d6fb58372c42c3ac54",
          "grade": true,
          "grade_id": "cell-0a30b62e5e119555",
          "locked": false,
          "points": 0,
          "schema_version": 3,
          "solution": true,
          "task": false
        }
      },
      "source": [
        "The weights span multiple orders of magnitude, but they are all exceedingly small - practically zero"
      ]
    },
    {
      "cell_type": "markdown",
      "metadata": {
        "id": "8rDYEPbsBfGg"
      },
      "source": [
        "**Given what you know about L2 regularization, are you surprised by these results?**"
      ]
    },
    {
      "cell_type": "markdown",
      "metadata": {
        "deletable": false,
        "id": "m3Nt5LmOBfGg",
        "nbgrader": {
          "cell_type": "markdown",
          "checksum": "d8a2034f67badfe53f601873f7026dc0",
          "grade": true,
          "grade_id": "cell-c04d067161064011",
          "locked": false,
          "points": 0,
          "schema_version": 3,
          "solution": true,
          "task": false
        }
      },
      "source": [
        "No, this makes sense. Inflicting an overly large penatly on weights surpresses the weights to near zero"
      ]
    },
    {
      "cell_type": "markdown",
      "metadata": {
        "id": "0SI5IBq8BfGg"
      },
      "source": [
        "----\n",
        "\n",
        "# Experiment 2: Identify the relationship between model performance and Max Norm Weight Constraint\n",
        "\n",
        "![](https://qph.fs.quoracdn.net/main-qimg-9d0dbf8074761b541ba80543ddfc9f73.webp)\n",
        "\n",
        "Recall from lecture that the **norm** of a vector is another word for the **length** of the vector.\n",
        "\n",
        "`MaxNorm` weight constraint puts a limit on the norm of the weight vector.\n",
        "\n",
        "The effect that Lp regularization and `MaxNorm` regularization have on the weights is similar, but they go about it in different ways.\n",
        "\n",
        "While Lp regularization (L1/Lasso and L2/Ridge) shrink the weight values by imposing constraints on their L1 and L2 norms, `MaxNorm` regularization shrinks the weight values by imposing a limit on the norm of a weight vector. Here's how it works: if an update would push the norm of a weight vector above MaxNorm, a scale factor is applied to all the weights so as to shrink the norm back to MaxNorm.\n",
        "\n",
        "In this experiment, we'll run another gridseach, similar to the one we ran for L2 regularization in the previous experiment. This time, we are going to gauge the effect of `MaxNorm` regularization on model performance and the distribution of the learned weights. As in the previous experiment, we will simplify our analysis by focusing on the weights for the first neuron in the first hidden layer."
      ]
    },
    {
      "cell_type": "markdown",
      "metadata": {
        "id": "ChP-sILzBfGg"
      },
      "source": [
        "Since we already built our model, we just need to update the `hyper_parameters` dictionary."
      ]
    },
    {
      "cell_type": "code",
      "execution_count": null,
      "metadata": {
        "id": "5xdqcr6WBfGg",
        "tags": [],
        "outputId": "02cf0cb7-0c57-41c7-8f03-5cf14262cdda"
      },
      "outputs": [
        {
          "data": {
            "text/plain": [
              "{'maxnorm_wc': array([ 0.5,  1. ,  1.5,  2. ,  2.5,  3. ,  3.5,  4. ,  4.5,  5. ,  5.5,\n",
              "         6. ,  6.5,  7. ,  7.5,  8. ,  8.5,  9. ,  9.5, 10. ]),\n",
              " 'epochs': [1]}"
            ]
          },
          "execution_count": 57,
          "metadata": {},
          "output_type": "execute_result"
        }
      ],
      "source": [
        "# build out our hyperparameter dictionary\n",
        "hyper_parameters = {\n",
        "\n",
        "    \"maxnorm_wc\": np.linspace(0.5, 10.0, num=20),\n",
        "    # default is 1, in order to change it we must provide value here because we can't provide a parameter value for model.fit() directly when using gridsearch\n",
        "    # protip: consider changing epochs to 1 if the gridsearche run-time are too long for you\n",
        "    \"epochs\": [1]\n",
        "}\n",
        "\n",
        "hyper_parameters"
      ]
    },
    {
      "cell_type": "code",
      "execution_count": null,
      "metadata": {
        "id": "AGQiKwo0BfGh",
        "scrolled": true,
        "tags": [],
        "outputId": "6ab03f58-8c63-429a-9377-abdf6b8b43a0"
      },
      "outputs": [
        {
          "name": "stdout",
          "output_type": "stream",
          "text": [
            "Fitting 3 folds for each of 20 candidates, totalling 60 fits\n"
          ]
        },
        {
          "name": "stderr",
          "output_type": "stream",
          "text": [
            "2023-08-26 19:46:28.394287: W tensorflow/tsl/platform/profile_utils/cpu_utils.cc:128] Failed to get CPU frequency: 0 Hz\n",
            "2023-08-26 19:46:28.396531: W tensorflow/tsl/platform/profile_utils/cpu_utils.cc:128] Failed to get CPU frequency: 0 Hz\n",
            "2023-08-26 19:46:28.400318: W tensorflow/tsl/platform/profile_utils/cpu_utils.cc:128] Failed to get CPU frequency: 0 Hz\n",
            "2023-08-26 19:46:28.401105: W tensorflow/tsl/platform/profile_utils/cpu_utils.cc:128] Failed to get CPU frequency: 0 Hz\n",
            "2023-08-26 19:46:28.401776: W tensorflow/tsl/platform/profile_utils/cpu_utils.cc:128] Failed to get CPU frequency: 0 Hz\n",
            "2023-08-26 19:46:28.406689: W tensorflow/tsl/platform/profile_utils/cpu_utils.cc:128] Failed to get CPU frequency: 0 Hz\n",
            "2023-08-26 19:46:28.420912: W tensorflow/tsl/platform/profile_utils/cpu_utils.cc:128] Failed to get CPU frequency: 0 Hz\n"
          ]
        },
        {
          "name": "stdout",
          "output_type": "stream",
          "text": [
            "1563/1563 [==============================] - 10s 6ms/step - loss: 0.6436 - accuracy: 0.8018\n",
            "1563/1563 [==============================] - 10s 6ms/step - loss: 0.6627 - accuracy: 0.7952\n",
            "1563/1563 [==============================] - 10s 6ms/step - loss: 0.7353 - accuracy: 0.7714\n",
            "1563/1563 [==============================] - 10s 6ms/step - loss: 0.7358 - accuracy: 0.7713\n",
            "1563/1563 [==============================] - 10s 6ms/step - loss: 0.6679 - accuracy: 0.7926\n",
            "1563/1563 [==============================] - 10s 6ms/step - loss: 0.6595 - accuracy: 0.7936\n",
            "1563/1563 [==============================] - 10s 7ms/step - loss: 0.7377 - accuracy: 0.7688\n",
            "782/782 [==============================] - 2s 2ms/step - loss: 0.5296 - accuracy: 0.8384\n",
            "782/782 [==============================] - 2s 2ms/step - loss: 0.5467 - accuracy: 0.8318\n",
            "782/782 [==============================] - 2s 2ms/step - loss: 0.5788 - accuracy: 0.8204\n",
            "782/782 [==============================] - 2s 2ms/step - loss: 0.6733 - accuracy: 0.7909\n",
            "782/782 [==============================] - 2s 2ms/step - loss: 0.5536 - accuracy: 0.8300\n",
            "782/782 [==============================] - 2s 2ms/step - loss: 0.5388 - accuracy: 0.8354\n",
            "782/782 [==============================] - 2s 2ms/step - loss: 0.6626 - accuracy: 0.7983\n",
            "1563/1563 [==============================] - 10s 6ms/step - loss: 0.6445 - accuracy: 0.8020\n",
            "1563/1563 [==============================] - 9s 6ms/step - loss: 0.6464 - accuracy: 0.8012\n",
            "1563/1563 [==============================] - 10s 6ms/step - loss: 0.6458 - accuracy: 0.8014\n",
            "1563/1563 [==============================] - 10s 6ms/step - loss: 0.6523 - accuracy: 0.7975\n",
            "1563/1563 [==============================] - 10s 6ms/step - loss: 0.6463 - accuracy: 0.7995\n",
            "1563/1563 [==============================] - 10s 6ms/step - loss: 0.6449 - accuracy: 0.8022\n",
            "1563/1563 [==============================] - 10s 6ms/step - loss: 0.6514 - accuracy: 0.7988\n",
            "782/782 [==============================] - 1s 2ms/step - loss: 0.5373 - accuracy: 0.8345\n",
            "782/782 [==============================] - 1s 2ms/step - loss: 0.5072 - accuracy: 0.8459\n",
            "782/782 [==============================] - 2s 2ms/step - loss: 0.5281 - accuracy: 0.8388\n",
            "782/782 [==============================] - 2s 2ms/step - loss: 0.4924 - accuracy: 0.8508\n",
            "782/782 [==============================] - 2s 2ms/step - loss: 0.5509 - accuracy: 0.8319\n",
            "782/782 [==============================] - 2s 2ms/step - loss: 0.5320 - accuracy: 0.8355\n",
            "782/782 [==============================] - 2s 2ms/step - loss: 0.5227 - accuracy: 0.8454\n",
            "1563/1563 [==============================] - 10s 6ms/step - loss: 0.6439 - accuracy: 0.8016\n",
            "1563/1563 [==============================] - 10s 6ms/step - loss: 0.6420 - accuracy: 0.8017\n",
            "1563/1563 [==============================] - 10s 6ms/step - loss: 0.6478 - accuracy: 0.8015\n",
            "1563/1563 [==============================] - 10s 6ms/step - loss: 0.6464 - accuracy: 0.8010\n",
            "1563/1563 [==============================] - 9s 6ms/step - loss: 0.6404 - accuracy: 0.8030\n",
            "1563/1563 [==============================] - 10s 6ms/step - loss: 0.6511 - accuracy: 0.7999\n",
            "782/782 [==============================] - 2s 2ms/step - loss: 0.5183 - accuracy: 0.8440\n",
            "782/782 [==============================] - 1s 2ms/step - loss: 0.5117 - accuracy: 0.8446\n",
            "782/782 [==============================] - 1s 2ms/step - loss: 0.4924 - accuracy: 0.8510\n",
            "1563/1563 [==============================] - 9s 6ms/step - loss: 0.6493 - accuracy: 0.7994\n",
            "782/782 [==============================] - 2s 2ms/step - loss: 0.5285 - accuracy: 0.8392\n",
            "782/782 [==============================] - 2s 2ms/step - loss: 0.5216 - accuracy: 0.8420\n",
            "782/782 [==============================] - 2s 2ms/step - loss: 0.4907 - accuracy: 0.8499\n",
            "782/782 [==============================] - 2s 3ms/step - loss: 0.5591 - accuracy: 0.8263\n",
            "1563/1563 [==============================] - 10s 6ms/step - loss: 0.6430 - accuracy: 0.8029\n",
            "1563/1563 [==============================] - 10s 6ms/step - loss: 0.6518 - accuracy: 0.7993\n",
            "1563/1563 [==============================] - 10s 6ms/step - loss: 0.6525 - accuracy: 0.7998\n",
            "1563/1563 [==============================] - 9s 6ms/step - loss: 0.6514 - accuracy: 0.7983\n",
            "1563/1563 [==============================] - 10s 6ms/step - loss: 0.6414 - accuracy: 0.8019\n",
            "782/782 [==============================] - 2s 2ms/step - loss: 0.5214 - accuracy: 0.8412\n",
            "782/782 [==============================] - 2s 2ms/step - loss: 0.5054 - accuracy: 0.8481\n",
            "1563/1563 [==============================] - 9s 6ms/step - loss: 0.6384 - accuracy: 0.8042\n",
            "782/782 [==============================] - 2s 2ms/step - loss: 0.5116 - accuracy: 0.8447\n",
            "1563/1563 [==============================] - 10s 6ms/step - loss: 0.6530 - accuracy: 0.7983\n",
            "782/782 [==============================] - 2s 2ms/step - loss: 0.5328 - accuracy: 0.8330\n",
            "782/782 [==============================] - 2s 2ms/step - loss: 0.5262 - accuracy: 0.8425\n",
            "782/782 [==============================] - 2s 2ms/step - loss: 0.5069 - accuracy: 0.8454\n",
            "782/782 [==============================] - 2s 2ms/step - loss: 0.5342 - accuracy: 0.8380\n",
            "1563/1563 [==============================] - 9s 6ms/step - loss: 0.6496 - accuracy: 0.8008\n",
            "1563/1563 [==============================] - 10s 6ms/step - loss: 0.6476 - accuracy: 0.8004\n",
            "1563/1563 [==============================] - 10s 6ms/step - loss: 0.6371 - accuracy: 0.8026\n",
            "1563/1563 [==============================] - 10s 6ms/step - loss: 0.6521 - accuracy: 0.8009\n",
            "1563/1563 [==============================] - 10s 6ms/step - loss: 0.6468 - accuracy: 0.7997\n",
            "782/782 [==============================] - 2s 2ms/step - loss: 0.5234 - accuracy: 0.8394\n",
            "782/782 [==============================] - 2s 2ms/step - loss: 0.5493 - accuracy: 0.8308\n",
            "1563/1563 [==============================] - 9s 6ms/step - loss: 0.6447 - accuracy: 0.8008\n",
            "782/782 [==============================] - 2s 2ms/step - loss: 0.5201 - accuracy: 0.8402\n",
            "782/782 [==============================] - 2s 2ms/step - loss: 0.5132 - accuracy: 0.8464\n",
            "782/782 [==============================] - 2s 2ms/step - loss: 0.5191 - accuracy: 0.8421\n",
            "1563/1563 [==============================] - 10s 6ms/step - loss: 0.6459 - accuracy: 0.8015\n",
            "782/782 [==============================] - 2s 2ms/step - loss: 0.5272 - accuracy: 0.8414\n",
            "782/782 [==============================] - 2s 2ms/step - loss: 0.5046 - accuracy: 0.8434\n",
            "1563/1563 [==============================] - 10s 6ms/step - loss: 0.6479 - accuracy: 0.7985\n",
            "1563/1563 [==============================] - 10s 6ms/step - loss: 0.6411 - accuracy: 0.8022\n",
            "1563/1563 [==============================] - 10s 6ms/step - loss: 0.6539 - accuracy: 0.7992\n",
            "1563/1563 [==============================] - 10s 6ms/step - loss: 0.6442 - accuracy: 0.8020\n",
            "1563/1563 [==============================] - 10s 6ms/step - loss: 0.6465 - accuracy: 0.8006\n",
            "782/782 [==============================] - 2s 2ms/step - loss: 0.5058 - accuracy: 0.8445\n",
            "782/782 [==============================] - 2s 2ms/step - loss: 0.5221 - accuracy: 0.8411\n",
            "1563/1563 [==============================] - 10s 6ms/step - loss: 0.6489 - accuracy: 0.8006\n",
            "782/782 [==============================] - 2s 2ms/step - loss: 0.5059 - accuracy: 0.8463\n",
            "782/782 [==============================] - 1s 2ms/step - loss: 0.5202 - accuracy: 0.8430\n",
            "782/782 [==============================] - 2s 2ms/step - loss: 0.5079 - accuracy: 0.8431\n",
            "1563/1563 [==============================] - 9s 6ms/step - loss: 0.6494 - accuracy: 0.8004\n",
            "782/782 [==============================] - 2s 2ms/step - loss: 0.5062 - accuracy: 0.8431\n",
            "782/782 [==============================] - 2s 2ms/step - loss: 0.5367 - accuracy: 0.8342\n",
            "1563/1563 [==============================] - 10s 6ms/step - loss: 0.6422 - accuracy: 0.8023\n",
            "1563/1563 [==============================] - 10s 6ms/step - loss: 0.6496 - accuracy: 0.8003\n",
            "1563/1563 [==============================] - 10s 6ms/step - loss: 0.6430 - accuracy: 0.8031\n",
            "1563/1563 [==============================] - 10s 6ms/step - loss: 0.6437 - accuracy: 0.8000\n",
            "1563/1563 [==============================] - 10s 6ms/step - loss: 0.6471 - accuracy: 0.8020\n",
            "1563/1563 [==============================] - 10s 6ms/step - loss: 0.6511 - accuracy: 0.7988\n",
            "782/782 [==============================] - 2s 2ms/step - loss: 0.5091 - accuracy: 0.8466\n",
            "782/782 [==============================] - 2s 2ms/step - loss: 0.5031 - accuracy: 0.8495\n",
            "1563/1563 [==============================] - 9s 6ms/step - loss: 0.6410 - accuracy: 0.8031\n",
            "782/782 [==============================] - 2s 2ms/step - loss: 0.5001 - accuracy: 0.8460\n",
            "782/782 [==============================] - 2s 2ms/step - loss: 0.5203 - accuracy: 0.8428\n",
            "782/782 [==============================] - 2s 2ms/step - loss: 0.5109 - accuracy: 0.8448\n",
            "782/782 [==============================] - 2s 2ms/step - loss: 0.5389 - accuracy: 0.8335\n",
            "782/782 [==============================] - 2s 2ms/step - loss: 0.5189 - accuracy: 0.8434\n",
            "1563/1563 [==============================] - 10s 6ms/step - loss: 0.6477 - accuracy: 0.8016\n",
            "1563/1563 [==============================] - 10s 6ms/step - loss: 0.6449 - accuracy: 0.8013\n",
            "1563/1563 [==============================] - 10s 6ms/step - loss: 0.6444 - accuracy: 0.8023\n",
            "1563/1563 [==============================] - 10s 6ms/step - loss: 0.6452 - accuracy: 0.8021\n",
            "1563/1563 [==============================] - 10s 6ms/step - loss: 0.6529 - accuracy: 0.7993\n",
            "1563/1563 [==============================] - 10s 6ms/step - loss: 0.6399 - accuracy: 0.8030\n",
            "1563/1563 [==============================] - 9s 6ms/step - loss: 0.6511 - accuracy: 0.7991\n",
            "782/782 [==============================] - 2s 2ms/step - loss: 0.5037 - accuracy: 0.8462\n",
            "782/782 [==============================] - 2s 2ms/step - loss: 0.5079 - accuracy: 0.8467\n",
            "782/782 [==============================] - 2s 2ms/step - loss: 0.5344 - accuracy: 0.8409\n",
            "782/782 [==============================] - 2s 2ms/step - loss: 0.5069 - accuracy: 0.8478\n",
            "782/782 [==============================] - 2s 2ms/step - loss: 0.5217 - accuracy: 0.8434\n",
            "782/782 [==============================] - 2s 2ms/step - loss: 0.5273 - accuracy: 0.8416\n",
            "782/782 [==============================] - 2s 2ms/step - loss: 0.5228 - accuracy: 0.8431\n",
            "1563/1563 [==============================] - 7s 4ms/step - loss: 0.6480 - accuracy: 0.8005\n",
            "1563/1563 [==============================] - 6s 4ms/step - loss: 0.6489 - accuracy: 0.7999\n",
            "1563/1563 [==============================] - 7s 4ms/step - loss: 0.6481 - accuracy: 0.7994\n",
            "1563/1563 [==============================] - 7s 4ms/step - loss: 0.6491 - accuracy: 0.8002\n",
            "782/782 [==============================] - 1s 1ms/step - loss: 0.5465 - accuracy: 0.8327\n",
            "782/782 [==============================] - 1s 1ms/step - loss: 0.5018 - accuracy: 0.8456\n",
            "782/782 [==============================] - 1s 1ms/step - loss: 0.5158 - accuracy: 0.8415\n",
            "782/782 [==============================] - 1s 1ms/step - loss: 0.4976 - accuracy: 0.8451\n",
            "2344/2344 [==============================] - 6s 2ms/step - loss: 0.5997 - accuracy: 0.8168\n"
          ]
        }
      ],
      "source": [
        "start=time()\n",
        "# Create and run Grid Search\n",
        "grid = GridSearchCV(estimator=model,\n",
        "                    param_grid=hyper_parameters,\n",
        "                    n_jobs=-2,\n",
        "                    verbose=1,\n",
        "                    cv=3)\n",
        "\n",
        "grid_result = grid.fit(X_train, y_train)\n",
        "end=time()"
      ]
    },
    {
      "cell_type": "code",
      "execution_count": null,
      "metadata": {
        "id": "pslQN3T-BfGh",
        "tags": [],
        "outputId": "9a72a90e-0f29-48a9-e8c3-3d1fc13ddd5e"
      },
      "outputs": [
        {
          "name": "stdout",
          "output_type": "stream",
          "text": [
            "Gridsearch runtime 1.89 mins\n"
          ]
        }
      ],
      "source": [
        "print(\"Gridsearch runtime {0:.3} mins\".format( (end-start)/60 ))"
      ]
    },
    {
      "cell_type": "code",
      "execution_count": null,
      "metadata": {
        "id": "cxaAl3cvBfGh",
        "tags": [],
        "outputId": "556bc9ed-effc-41ee-de2f-72bdc0a6312a"
      },
      "outputs": [
        {
          "data": {
            "image/png": "[encoded data removed]",
            "text/plain": [
              "<Figure size 2000x600 with 1 Axes>"
            ]
          },
          "metadata": {},
          "output_type": "display_data"
        }
      ],
      "source": [
        "# use the mean accuracy from the CV splits for determining best model score\n",
        "means = grid.cv_results_['mean_test_score']\n",
        "stds = grid.cv_results_['std_test_score']\n",
        "params = grid.cv_results_['params']\n",
        "\n",
        "# move l2 penalty values outside of dictionary and into a list\n",
        "param_values = [param_dict[\"maxnorm_wc\"] for param_dict in params]\n",
        "\n",
        "# plot accuracy vs l2_reg_penalty\n",
        "plt.figure(figsize=(20,6))\n",
        "plt.grid()\n",
        "plt.errorbar(param_values, means, yerr=stds, ecolor=\"orange\")\n",
        "plt.title(\"MaxNorm weight constraint: Model Accuracy vs MaxNorm\")\n",
        "plt.ylabel(\"Validation Accuracy\", )\n",
        "plt.xlabel(\"Max Norm for Weight Vector \");"
      ]
    },
    {
      "cell_type": "code",
      "execution_count": null,
      "metadata": {
        "deletable": false,
        "id": "D3aeaN_NBfGi",
        "nbgrader": {
          "cell_type": "code",
          "checksum": "cfe7bd54a7a14ba7ee63c88d6d1828b4",
          "grade": false,
          "grade_id": "cell-f67372e0b9b30614",
          "locked": false,
          "schema_version": 3,
          "solution": true,
          "task": false
        },
        "tags": []
      },
      "outputs": [],
      "source": [
        "# get the best value of max norm from grid and save to best_max_norm_val\n",
        "\n",
        "# get the best trained model from grid and save to best_model\n",
        "\n",
        "# get the weights from the best trained model and save to best_weights\n",
        "\n",
        "# YOUR CODE HERE\n",
        "# get the best l2 penalty term\n",
        "best_max_norm_val = grid.best_params_[\"maxnorm_wc\"]\n",
        "\n",
        "# get the best trained model\n",
        "#     a model that is wrapped in the KerasClassifier wrapper doesn't have a .get_weights() method.\n",
        "#     So this is the workaround to generate a version of the model that does have a .get_weights() method\n",
        "best_model = grid.best_estimator_.build_fn(maxnorm_wc=best_max_norm_val)\n",
        "\n",
        "# get the weights from the best trained model\n",
        "best_weights = best_model.get_weights()"
      ]
    },
    {
      "cell_type": "code",
      "execution_count": null,
      "metadata": {
        "id": "udo9kxwWBfGi",
        "tags": [],
        "outputId": "9a96b6d0-0a96-40ac-b989-34ddd5f417db"
      },
      "outputs": [
        {
          "data": {
            "text/plain": [
              "7.5"
            ]
          },
          "execution_count": 63,
          "metadata": {},
          "output_type": "execute_result"
        }
      ],
      "source": [
        "best_max_norm_val"
      ]
    },
    {
      "cell_type": "code",
      "execution_count": null,
      "metadata": {
        "id": "aYdmRUJSBfGi",
        "tags": [],
        "outputId": "e1bdc130-e066-491c-c6ec-63e8203167be"
      },
      "outputs": [
        {
          "data": {
            "text/plain": [
              "0.8987461"
            ]
          },
          "execution_count": 64,
          "metadata": {},
          "output_type": "execute_result"
        }
      ],
      "source": [
        "# we can verify that the norm of our weights are indeed below the maximum allowed value\n",
        "np.linalg.norm(best_weights[0][0])"
      ]
    },
    {
      "cell_type": "code",
      "execution_count": null,
      "metadata": {
        "deletable": false,
        "id": "3ew76uwZBfGi",
        "nbgrader": {
          "cell_type": "code",
          "checksum": "67f65bd636e3b3b3bc7d20c02ba6b666",
          "grade": false,
          "grade_id": "cell-e752c1a8c853985d",
          "locked": false,
          "schema_version": 3,
          "solution": true,
          "task": false
        },
        "tags": [],
        "outputId": "dcb981f5-a9ce-43f3-9022-c4302c3e5187"
      },
      "outputs": [
        {
          "name": "stdout",
          "output_type": "stream",
          "text": [
            "Epoch 1/3\n",
            "2344/2344 [==============================] - 6s 2ms/step - loss: 0.6965 - accuracy: 0.7814\n",
            "Epoch 2/3\n",
            "2344/2344 [==============================] - 6s 2ms/step - loss: 0.5788 - accuracy: 0.8201\n",
            "Epoch 3/3\n",
            "2344/2344 [==============================] - 6s 2ms/step - loss: 0.5610 - accuracy: 0.8244\n"
          ]
        }
      ],
      "source": [
        "# train a model using the max_norm_val value that scored the lowest\n",
        "\n",
        "# build a model using build_complex_model and worse_max_norm_val and save it to worse_model\n",
        "\n",
        "# fit model\n",
        "\n",
        "# get weights from worse performing model\n",
        "\n",
        "\n",
        "# YOUR CODE HERE\n",
        "worse_max_norm_val = 0.5\n",
        "worse_model = build_complex_model(maxnorm_wc=worse_max_norm_val)\n",
        "worse_model.fit(X_train, y_train, epochs=3)\n",
        "worse_weights = worse_model.get_weights()"
      ]
    },
    {
      "cell_type": "markdown",
      "metadata": {
        "id": "GgVx0Yg-7OwJ"
      },
      "source": [
        "Sample the initial weights from the `Glorot Uniform Weight Initializer`, for comparison"
      ]
    },
    {
      "cell_type": "code",
      "execution_count": null,
      "metadata": {
        "deletable": false,
        "id": "DEx3m9vVBfGj",
        "nbgrader": {
          "cell_type": "code",
          "checksum": "a38d5d4db707124b31a662fb4743b049",
          "grade": false,
          "grade_id": "cell-5c1aa4543e68487d",
          "locked": false,
          "schema_version": 3,
          "solution": true,
          "task": false
        },
        "tags": []
      },
      "outputs": [],
      "source": [
        "# index for the 1st hidden layer weights in best_weights and save to best_hidden_weights\n",
        "\n",
        "# index for the 1st hidden layer weights in worse_weights and save to worse_hidden_weights\n",
        "\n",
        "# Keras models randomly samples from the GlorotUniform distribution for the initial values of model weights\n",
        "\n",
        "# instantiate GlorotUniform and sample 500 weights and save to initial_weight_values\n",
        "# hint: use shape=(1, 500)\n",
        "\n",
        "\n",
        "# YOUR CODE HERE\n",
        "best_hidden_weights = best_weights[0][0].flatten()\n",
        "worse_hidden_weights = worse_weights[0][0].flatten()\n",
        "glorot = GlorotUniform()\n",
        "initial_weight_values = glorot(shape=(1,500)).numpy().flatten()"
      ]
    },
    {
      "cell_type": "code",
      "execution_count": null,
      "metadata": {
        "id": "Ck8kH2LeBfGk",
        "tags": []
      },
      "outputs": [],
      "source": [
        "# move all weights to a dataframe for ease of analysis\n",
        "cols = [\"best_hidden_weights\", \"worse_hidden_weights\", \"initial_weight_values\"]\n",
        "data = [best_hidden_weights, worse_hidden_weights, initial_weight_values]\n",
        "df_maxnorm= pd.DataFrame(data=data).T\n",
        "df_maxnorm.columns = cols"
      ]
    },
    {
      "cell_type": "code",
      "execution_count": null,
      "metadata": {
        "id": "jiT661fNBfGk",
        "tags": [],
        "outputId": "71d88be9-ab5f-4e8e-a36e-c9a2f5662919"
      },
      "outputs": [
        {
          "data": {
            "text/html": [
              "<div>\n",
              "<style scoped>\n",
              "    .dataframe tbody tr th:only-of-type {\n",
              "        vertical-align: middle;\n",
              "    }\n",
              "\n",
              "    .dataframe tbody tr th {\n",
              "        vertical-align: top;\n",
              "    }\n",
              "\n",
              "    .dataframe thead th {\n",
              "        text-align: right;\n",
              "    }\n",
              "</style>\n",
              "<table border=\"1\" class=\"dataframe\">\n",
              "  <thead>\n",
              "    <tr style=\"text-align: right;\">\n",
              "      <th></th>\n",
              "      <th>best_hidden_weights</th>\n",
              "      <th>worse_hidden_weights</th>\n",
              "      <th>initial_weight_values</th>\n",
              "    </tr>\n",
              "  </thead>\n",
              "  <tbody>\n",
              "    <tr>\n",
              "      <th>count</th>\n",
              "      <td>500.000000</td>\n",
              "      <td>5.000000e+02</td>\n",
              "      <td>500.000000</td>\n",
              "    </tr>\n",
              "    <tr>\n",
              "      <th>mean</th>\n",
              "      <td>0.002499</td>\n",
              "      <td>-2.085357e-06</td>\n",
              "      <td>-0.000411</td>\n",
              "    </tr>\n",
              "    <tr>\n",
              "      <th>std</th>\n",
              "      <td>0.040156</td>\n",
              "      <td>1.051090e-04</td>\n",
              "      <td>0.064210</td>\n",
              "    </tr>\n",
              "    <tr>\n",
              "      <th>min</th>\n",
              "      <td>-0.068231</td>\n",
              "      <td>-9.224718e-04</td>\n",
              "      <td>-0.109287</td>\n",
              "    </tr>\n",
              "    <tr>\n",
              "      <th>25%</th>\n",
              "      <td>-0.033132</td>\n",
              "      <td>-9.617626e-08</td>\n",
              "      <td>-0.058223</td>\n",
              "    </tr>\n",
              "    <tr>\n",
              "      <th>50%</th>\n",
              "      <td>0.004416</td>\n",
              "      <td>8.418543e-10</td>\n",
              "      <td>-0.001083</td>\n",
              "    </tr>\n",
              "    <tr>\n",
              "      <th>75%</th>\n",
              "      <td>0.038499</td>\n",
              "      <td>1.370008e-07</td>\n",
              "      <td>0.060454</td>\n",
              "    </tr>\n",
              "    <tr>\n",
              "      <th>max</th>\n",
              "      <td>0.067933</td>\n",
              "      <td>7.205336e-04</td>\n",
              "      <td>0.109314</td>\n",
              "    </tr>\n",
              "  </tbody>\n",
              "</table>\n",
              "</div>"
            ],
            "text/plain": [
              "       best_hidden_weights  worse_hidden_weights  initial_weight_values\n",
              "count           500.000000          5.000000e+02             500.000000\n",
              "mean              0.002499         -2.085357e-06              -0.000411\n",
              "std               0.040156          1.051090e-04               0.064210\n",
              "min              -0.068231         -9.224718e-04              -0.109287\n",
              "25%              -0.033132         -9.617626e-08              -0.058223\n",
              "50%               0.004416          8.418543e-10              -0.001083\n",
              "75%               0.038499          1.370008e-07               0.060454\n",
              "max               0.067933          7.205336e-04               0.109314"
            ]
          },
          "execution_count": 68,
          "metadata": {},
          "output_type": "execute_result"
        }
      ],
      "source": [
        "df_maxnorm.describe()"
      ]
    },
    {
      "cell_type": "code",
      "execution_count": null,
      "metadata": {
        "id": "N6HmKEFHBfGl",
        "tags": [],
        "outputId": "90d72c5a-60c2-42d2-a675-4b7248369f05"
      },
      "outputs": [
        {
          "data": {
            "image/png": "[encoded data removed]",
            "text/plain": [
              "<Figure size 2000x1200 with 4 Axes>"
            ]
          },
          "metadata": {},
          "output_type": "display_data"
        }
      ],
      "source": [
        "# plot the distributions for each weight column\n",
        "df_maxnorm.hist(figsize=(20,12));"
      ]
    },
    {
      "cell_type": "markdown",
      "metadata": {
        "id": "GJLb71QuBfGm"
      },
      "source": [
        "## Observations\n",
        "\n",
        "Take a look at the statistical table and the plots. Then answer the following questions.\n",
        "\n",
        "**How do the hidden layer weights from the best performing model compare to the initial weight values?**"
      ]
    },
    {
      "cell_type": "markdown",
      "metadata": {
        "deletable": false,
        "id": "9Ow24epzBfGm",
        "nbgrader": {
          "cell_type": "markdown",
          "checksum": "f43fe1110cdcea8d1e4b432fe78d4e49",
          "grade": true,
          "grade_id": "cell-40a44d19694941b8",
          "locked": false,
          "points": 0,
          "schema_version": 3,
          "solution": true,
          "task": false
        }
      },
      "source": [
        "Similar distribution"
      ]
    },
    {
      "cell_type": "markdown",
      "metadata": {
        "id": "1C-q89taBfGm"
      },
      "source": [
        "**What was the effect of using the weight constraint value in MaxNorm in the best performing model?**"
      ]
    },
    {
      "cell_type": "markdown",
      "metadata": {
        "deletable": false,
        "id": "JEnRcaxEBfGm",
        "nbgrader": {
          "cell_type": "markdown",
          "checksum": "b1c59c58a5abdbc0b509983821198dba",
          "grade": true,
          "grade_id": "cell-4f9e1e134124e512",
          "locked": false,
          "points": 0,
          "schema_version": 3,
          "solution": true,
          "task": false
        }
      },
      "source": [
        "Weights stayed relatively close the initilization values"
      ]
    },
    {
      "cell_type": "markdown",
      "metadata": {
        "id": "LY9joSwUBfGn"
      },
      "source": [
        "**What was the effect of using the weight constraint value in MaxNorm in the worse performing model?**"
      ]
    },
    {
      "cell_type": "markdown",
      "metadata": {
        "deletable": false,
        "id": "8_Pw4Jb1BfGn",
        "nbgrader": {
          "cell_type": "markdown",
          "checksum": "0062b4ddfad487c39633c37f4710b752",
          "grade": true,
          "grade_id": "cell-4c289ce70c34048a",
          "locked": false,
          "points": 0,
          "schema_version": 3,
          "solution": true,
          "task": false
        }
      },
      "source": [
        "Weights were extremely small - near zero"
      ]
    },
    {
      "cell_type": "markdown",
      "metadata": {
        "id": "fWmTydgiBfGn"
      },
      "source": [
        "**Given what you know about MaxNorm regularization, are you surprised by these results?**"
      ]
    },
    {
      "cell_type": "markdown",
      "metadata": {
        "deletable": false,
        "id": "EiAQlNHuBfGn",
        "nbgrader": {
          "cell_type": "markdown",
          "checksum": "3c36931d3532a8cbcb4ea0c956378728",
          "grade": true,
          "grade_id": "cell-77366a912217da5d",
          "locked": false,
          "points": 0,
          "schema_version": 3,
          "solution": true,
          "task": false
        }
      },
      "source": [
        "No; the smallest max_norm was too small and as a results our weights were held too small as well"
      ]
    },
    {
      "cell_type": "markdown",
      "metadata": {
        "id": "l_INtS2vBfGn"
      },
      "source": [
        "-----\n",
        "# Experiment 3: Identify the relationship between model performance and Dropout\n",
        "\n",
        "\n",
        "![](https://miro.medium.com/max/981/1*EinUlWw1n8vbcLyT0zx4gw.png)\n",
        "\n",
        "In the 3rd experiment, we will use gridsearch to see how varying the value of the the dropout probability affects model performance.\n",
        "\n",
        "Recall from lecture that dropout tends to perform best when used with `MaxNorm` regularization. Since this is the case, we will gridsearch both dropout probability and the weight constraint for `MaxNorm`.\n",
        "\n",
        "If interested, feel free to read (or just skim) through the original publication on [**Drop Out**](https://jmlr.org/papers/volume15/srivastava14a.old/srivastava14a.pdf).\n",
        "\n",
        "**Key Take aways:**\n",
        "\n",
        "1. During training, dropout will probabilistically \"turn off\" some neurons in the layer that dropout is implemented in.\n",
        "2. During inference (ie. making predictions on the test set) all neurons are used (i.e. no dropout is applied).\n",
        "3. Dropout works best when used with MaxNorm\n"
      ]
    },
    {
      "cell_type": "code",
      "execution_count": null,
      "metadata": {
        "id": "ce81CswWlP1N",
        "tags": [],
        "outputId": "a8f50dea-26e4-4b69-e568-7bfe97320ac3"
      },
      "outputs": [
        {
          "data": {
            "text/plain": [
              "{'maxnorm_wc': array([0.5  , 1.625, 2.75 , 3.875, 5.   ]),\n",
              " 'dropout_prob': array([0.  , 0.15, 0.3 , 0.45, 0.6 ]),\n",
              " 'epochs': [1]}"
            ]
          },
          "execution_count": 70,
          "metadata": {},
          "output_type": "execute_result"
        }
      ],
      "source": [
        "# build out our hyperparameter dictionary\n",
        "hyper_parameters = {\n",
        "    # for the sake of runtime, let's vary maxnorm_wc between 0.5 and 5.0\n",
        "    \"maxnorm_wc\": np.linspace(0.5, 5, num=5),\n",
        "    # take note that l1_reg_penalty values are in powers of 10\n",
        "    \"dropout_prob\": np.linspace(0.0, 0.6, num=5),\n",
        "    \"epochs\": [1] # default is 1, in order to change it we must provide value here because we can provide a parameter value for model.fit() directly when using gridsearch\n",
        "}\n",
        "\n",
        "hyper_parameters"
      ]
    },
    {
      "cell_type": "code",
      "execution_count": null,
      "metadata": {
        "id": "6CN5X-D2lTS4",
        "scrolled": true,
        "tags": [],
        "outputId": "25859c20-e574-4d28-a500-df844bd37a06"
      },
      "outputs": [
        {
          "name": "stdout",
          "output_type": "stream",
          "text": [
            "Fitting 3 folds for each of 25 candidates, totalling 75 fits\n"
          ]
        },
        {
          "name": "stderr",
          "output_type": "stream",
          "text": [
            "2023-08-26 20:04:53.885680: W tensorflow/tsl/platform/profile_utils/cpu_utils.cc:128] Failed to get CPU frequency: 0 Hz\n",
            "2023-08-26 20:04:53.985500: W tensorflow/tsl/platform/profile_utils/cpu_utils.cc:128] Failed to get CPU frequency: 0 Hz\n",
            "2023-08-26 20:04:54.009897: W tensorflow/tsl/platform/profile_utils/cpu_utils.cc:128] Failed to get CPU frequency: 0 Hz\n",
            "2023-08-26 20:04:54.011720: W tensorflow/tsl/platform/profile_utils/cpu_utils.cc:128] Failed to get CPU frequency: 0 Hz\n",
            "2023-08-26 20:04:54.016688: W tensorflow/tsl/platform/profile_utils/cpu_utils.cc:128] Failed to get CPU frequency: 0 Hz\n",
            "2023-08-26 20:04:54.017846: W tensorflow/tsl/platform/profile_utils/cpu_utils.cc:128] Failed to get CPU frequency: 0 Hz\n",
            "2023-08-26 20:04:54.036797: W tensorflow/tsl/platform/profile_utils/cpu_utils.cc:128] Failed to get CPU frequency: 0 Hz\n"
          ]
        },
        {
          "name": "stdout",
          "output_type": "stream",
          "text": [
            "1563/1563 [==============================] - 9s 6ms/step - loss: 0.6490 - accuracy: 0.8011\n",
            "1563/1563 [==============================] - 9s 6ms/step - loss: 0.7385 - accuracy: 0.7706\n",
            "1563/1563 [==============================] - 9s 6ms/step - loss: 0.6505 - accuracy: 0.7991\n",
            "1563/1563 [==============================] - 10s 6ms/step - loss: 0.6417 - accuracy: 0.8016\n",
            "1563/1563 [==============================] - 10s 6ms/step - loss: 0.7525 - accuracy: 0.7654\n",
            "1563/1563 [==============================] - 10s 6ms/step - loss: 0.6425 - accuracy: 0.8020\n",
            "1563/1563 [==============================] - 11s 7ms/step - loss: 0.7369 - accuracy: 0.7706\n",
            "782/782 [==============================] - 1s 2ms/step - loss: 0.5110 - accuracy: 0.8455\n",
            "782/782 [==============================] - 1s 2ms/step - loss: 0.5951 - accuracy: 0.8178\n",
            "782/782 [==============================] - 2s 2ms/step - loss: 0.5321 - accuracy: 0.8356\n",
            "782/782 [==============================] - 2s 2ms/step - loss: 0.5072 - accuracy: 0.8480\n",
            "782/782 [==============================] - 2s 2ms/step - loss: 0.6097 - accuracy: 0.8149\n",
            "782/782 [==============================] - 3s 3ms/step - loss: 0.5299 - accuracy: 0.8401\n",
            "782/782 [==============================] - 3s 3ms/step - loss: 0.6146 - accuracy: 0.8069\n",
            "1563/1563 [==============================] - 10s 6ms/step - loss: 0.6604 - accuracy: 0.7967\n",
            "1563/1563 [==============================] - 9s 6ms/step - loss: 0.6448 - accuracy: 0.8016\n",
            "1563/1563 [==============================] - 9s 6ms/step - loss: 0.6430 - accuracy: 0.8018\n",
            "1563/1563 [==============================] - 10s 6ms/step - loss: 0.6469 - accuracy: 0.8003\n",
            "782/782 [==============================] - 2s 2ms/step - loss: 0.5317 - accuracy: 0.8383\n",
            "782/782 [==============================] - 2s 2ms/step - loss: 0.5224 - accuracy: 0.8386\n",
            "1563/1563 [==============================] - 9s 6ms/step - loss: 0.6495 - accuracy: 0.8007\n",
            "1563/1563 [==============================] - 10s 6ms/step - loss: 0.6434 - accuracy: 0.8032\n",
            "782/782 [==============================] - 2s 2ms/step - loss: 0.5105 - accuracy: 0.8469\n",
            "782/782 [==============================] - 2s 2ms/step - loss: 0.5123 - accuracy: 0.8438\n",
            "782/782 [==============================] - 1s 2ms/step - loss: 0.5178 - accuracy: 0.8402\n",
            "1563/1563 [==============================] - 11s 7ms/step - loss: 0.6397 - accuracy: 0.8028\n",
            "782/782 [==============================] - 1s 2ms/step - loss: 0.4905 - accuracy: 0.8509\n",
            "782/782 [==============================] - 3s 4ms/step - loss: 0.5447 - accuracy: 0.8364\n",
            "1563/1563 [==============================] - 10s 6ms/step - loss: 0.6515 - accuracy: 0.8000\n",
            "1563/1563 [==============================] - 10s 6ms/step - loss: 0.7857 - accuracy: 0.7566\n",
            "1563/1563 [==============================] - 10s 6ms/step - loss: 0.7862 - accuracy: 0.7537\n",
            "782/782 [==============================] - 2s 2ms/step - loss: 0.6528 - accuracy: 0.7950\n",
            "782/782 [==============================] - 2s 2ms/step - loss: 0.5107 - accuracy: 0.8461\n",
            "1563/1563 [==============================] - 11s 7ms/step - loss: 0.7815 - accuracy: 0.7563\n",
            "1563/1563 [==============================] - 11s 7ms/step - loss: 0.7161 - accuracy: 0.7792\n",
            "782/782 [==============================] - 2s 2ms/step - loss: 0.6501 - accuracy: 0.7954\n",
            "1563/1563 [==============================] - 10s 6ms/step - loss: 0.7250 - accuracy: 0.7745\n",
            "782/782 [==============================] - 2s 2ms/step - loss: 0.6633 - accuracy: 0.7832\n",
            "782/782 [==============================] - 2s 2ms/step - loss: 0.5538 - accuracy: 0.8292\n",
            "782/782 [==============================] - 2s 2ms/step - loss: 0.5574 - accuracy: 0.8278\n",
            "1563/1563 [==============================] - 11s 7ms/step - loss: 0.7175 - accuracy: 0.7787\n",
            "1563/1563 [==============================] - 10s 6ms/step - loss: 0.7149 - accuracy: 0.7799\n",
            "1563/1563 [==============================] - 10s 7ms/step - loss: 0.7245 - accuracy: 0.7764\n",
            "1563/1563 [==============================] - 10s 6ms/step - loss: 0.7185 - accuracy: 0.7789\n",
            "782/782 [==============================] - 1s 2ms/step - loss: 0.5751 - accuracy: 0.8240\n",
            "782/782 [==============================] - 1s 2ms/step - loss: 0.5527 - accuracy: 0.8277\n",
            "1563/1563 [==============================] - 10s 6ms/step - loss: 0.7197 - accuracy: 0.7790\n",
            "1563/1563 [==============================] - 10s 6ms/step - loss: 0.7172 - accuracy: 0.7796\n",
            "782/782 [==============================] - 1s 2ms/step - loss: 0.5286 - accuracy: 0.8375\n",
            "1563/1563 [==============================] - 9s 6ms/step - loss: 0.7216 - accuracy: 0.7779\n",
            "782/782 [==============================] - 1s 2ms/step - loss: 0.5483 - accuracy: 0.8313\n",
            "782/782 [==============================] - 1s 2ms/step - loss: 0.5249 - accuracy: 0.8397\n",
            "782/782 [==============================] - 1s 2ms/step - loss: 0.5389 - accuracy: 0.8370\n",
            "782/782 [==============================] - 2s 2ms/step - loss: 0.5425 - accuracy: 0.8319\n",
            "1563/1563 [==============================] - 10s 6ms/step - loss: 0.7132 - accuracy: 0.7802\n",
            "1563/1563 [==============================] - 10s 6ms/step - loss: 0.7264 - accuracy: 0.7762\n",
            "782/782 [==============================] - 2s 2ms/step - loss: 0.5418 - accuracy: 0.8359\n",
            "1563/1563 [==============================] - 11s 7ms/step - loss: 0.7140 - accuracy: 0.7799\n",
            "782/782 [==============================] - 2s 2ms/step - loss: 0.5304 - accuracy: 0.8422\n",
            "1563/1563 [==============================] - 10s 6ms/step - loss: 0.8542 - accuracy: 0.7335\n",
            "1563/1563 [==============================] - 11s 7ms/step - loss: 0.8553 - accuracy: 0.7317\n",
            "1563/1563 [==============================] - 11s 7ms/step - loss: 0.8503 - accuracy: 0.7342\n",
            "782/782 [==============================] - 2s 2ms/step - loss: 0.5366 - accuracy: 0.8321\n",
            "782/782 [==============================] - 2s 2ms/step - loss: 0.6372 - accuracy: 0.8057\n",
            "782/782 [==============================] - 2s 2ms/step - loss: 0.6361 - accuracy: 0.8096\n",
            "1563/1563 [==============================] - 11s 7ms/step - loss: 0.8059 - accuracy: 0.7496\n",
            "782/782 [==============================] - 2s 2ms/step - loss: 0.6698 - accuracy: 0.7905\n",
            "782/782 [==============================] - 2s 2ms/step - loss: 0.5589 - accuracy: 0.8294\n",
            "1563/1563 [==============================] - 11s 7ms/step - loss: 0.8115 - accuracy: 0.7503\n",
            "1563/1563 [==============================] - 11s 7ms/step - loss: 0.8125 - accuracy: 0.7470\n",
            "782/782 [==============================] - 2s 2ms/step - loss: 0.5517 - accuracy: 0.8309\n",
            "1563/1563 [==============================] - 11s 7ms/step - loss: 0.8108 - accuracy: 0.7516\n",
            "1563/1563 [==============================] - 11s 7ms/step - loss: 0.8032 - accuracy: 0.7532\n",
            "1563/1563 [==============================] - 11s 7ms/step - loss: 0.8091 - accuracy: 0.7516\n",
            "1563/1563 [==============================] - 11s 7ms/step - loss: 0.8175 - accuracy: 0.7488\n",
            "782/782 [==============================] - 2s 2ms/step - loss: 0.5600 - accuracy: 0.8283\n",
            "782/782 [==============================] - 2s 2ms/step - loss: 0.5596 - accuracy: 0.8295\n",
            "782/782 [==============================] - 2s 2ms/step - loss: 0.5709 - accuracy: 0.8243\n",
            "1563/1563 [==============================] - 11s 7ms/step - loss: 0.8141 - accuracy: 0.7479\n",
            "782/782 [==============================] - 2s 2ms/step - loss: 0.5593 - accuracy: 0.8304\n",
            "782/782 [==============================] - 2s 2ms/step - loss: 0.5708 - accuracy: 0.8241\n",
            "1563/1563 [==============================] - 10s 6ms/step - loss: 0.8157 - accuracy: 0.7493\n",
            "1563/1563 [==============================] - 9s 6ms/step - loss: 0.8045 - accuracy: 0.7512\n",
            "1563/1563 [==============================] - 9s 6ms/step - loss: 0.8164 - accuracy: 0.7482\n",
            "782/782 [==============================] - 1s 2ms/step - loss: 0.5685 - accuracy: 0.8278\n",
            "782/782 [==============================] - 1s 2ms/step - loss: 0.5752 - accuracy: 0.8238\n",
            "1563/1563 [==============================] - 9s 6ms/step - loss: 0.9510 - accuracy: 0.7003\n",
            "1563/1563 [==============================] - 10s 6ms/step - loss: 0.8137 - accuracy: 0.7484\n",
            "782/782 [==============================] - 1s 2ms/step - loss: 0.5792 - accuracy: 0.8248\n",
            "1563/1563 [==============================] - 10s 6ms/step - loss: 0.9630 - accuracy: 0.6976\n",
            "782/782 [==============================] - 1s 2ms/step - loss: 0.5871 - accuracy: 0.8224\n",
            "782/782 [==============================] - 2s 2ms/step - loss: 0.6765 - accuracy: 0.7919\n",
            "782/782 [==============================] - 2s 2ms/step - loss: 0.5778 - accuracy: 0.8237\n",
            "782/782 [==============================] - 2s 2ms/step - loss: 0.7271 - accuracy: 0.7752\n",
            "1563/1563 [==============================] - 11s 7ms/step - loss: 0.9446 - accuracy: 0.7037\n",
            "1563/1563 [==============================] - 11s 7ms/step - loss: 0.9505 - accuracy: 0.7033\n",
            "1563/1563 [==============================] - 11s 7ms/step - loss: 0.9558 - accuracy: 0.7017\n",
            "782/782 [==============================] - 2s 2ms/step - loss: 0.6681 - accuracy: 0.7902\n",
            "1563/1563 [==============================] - 11s 7ms/step - loss: 0.9461 - accuracy: 0.7027\n",
            "782/782 [==============================] - 1s 2ms/step - loss: 0.6127 - accuracy: 0.8177\n",
            "1563/1563 [==============================] - 11s 7ms/step - loss: 0.9499 - accuracy: 0.7039\n",
            "782/782 [==============================] - 1s 2ms/step - loss: 0.6010 - accuracy: 0.8174\n",
            "782/782 [==============================] - 1s 2ms/step - loss: 0.6038 - accuracy: 0.8208\n",
            "1563/1563 [==============================] - 11s 7ms/step - loss: 0.9577 - accuracy: 0.6997\n",
            "1563/1563 [==============================] - 11s 7ms/step - loss: 0.9519 - accuracy: 0.7010\n",
            "782/782 [==============================] - 1s 2ms/step - loss: 0.6124 - accuracy: 0.8182\n",
            "782/782 [==============================] - 1s 2ms/step - loss: 0.6108 - accuracy: 0.8158\n",
            "1563/1563 [==============================] - 10s 6ms/step - loss: 0.9475 - accuracy: 0.7041\n",
            "1563/1563 [==============================] - 10s 6ms/step - loss: 0.9645 - accuracy: 0.6963\n",
            "1563/1563 [==============================] - 10s 6ms/step - loss: 0.9502 - accuracy: 0.6998\n",
            "782/782 [==============================] - 1s 2ms/step - loss: 0.6093 - accuracy: 0.8140\n",
            "782/782 [==============================] - 1s 2ms/step - loss: 0.6015 - accuracy: 0.8169\n",
            "1563/1563 [==============================] - 10s 6ms/step - loss: 0.9622 - accuracy: 0.6986\n",
            "1563/1563 [==============================] - 10s 6ms/step - loss: 0.9543 - accuracy: 0.7016\n",
            "782/782 [==============================] - 2s 2ms/step - loss: 0.6191 - accuracy: 0.8160\n",
            "782/782 [==============================] - 2s 2ms/step - loss: 0.6025 - accuracy: 0.8178\n",
            "1563/1563 [==============================] - 10s 6ms/step - loss: 0.9538 - accuracy: 0.7015\n",
            "782/782 [==============================] - 1s 2ms/step - loss: 0.6082 - accuracy: 0.8152\n",
            "782/782 [==============================] - 1s 2ms/step - loss: 0.6096 - accuracy: 0.8155\n",
            "782/782 [==============================] - 2s 2ms/step - loss: 0.6095 - accuracy: 0.8182\n",
            "1563/1563 [==============================] - 11s 7ms/step - loss: 1.1159 - accuracy: 0.6443\n",
            "1563/1563 [==============================] - 11s 7ms/step - loss: 1.1146 - accuracy: 0.6415\n",
            "782/782 [==============================] - 2s 2ms/step - loss: 0.7359 - accuracy: 0.7828\n",
            "782/782 [==============================] - 2s 2ms/step - loss: 0.7297 - accuracy: 0.7748\n",
            "1563/1563 [==============================] - 10s 7ms/step - loss: 1.2047 - accuracy: 0.6037\n",
            "1563/1563 [==============================] - 11s 7ms/step - loss: 1.2077 - accuracy: 0.6055\n",
            "1563/1563 [==============================] - 11s 7ms/step - loss: 1.2182 - accuracy: 0.6020\n",
            "1563/1563 [==============================] - 12s 7ms/step - loss: 1.1041 - accuracy: 0.6464\n",
            "782/782 [==============================] - 2s 2ms/step - loss: 0.6909 - accuracy: 0.7942\n",
            "782/782 [==============================] - 2s 2ms/step - loss: 0.7006 - accuracy: 0.7911\n",
            "782/782 [==============================] - 2s 2ms/step - loss: 0.6829 - accuracy: 0.7912\n",
            "1563/1563 [==============================] - 12s 7ms/step - loss: 1.2133 - accuracy: 0.6027\n",
            "782/782 [==============================] - 2s 2ms/step - loss: 0.7203 - accuracy: 0.7799\n",
            "782/782 [==============================] - 2s 2ms/step - loss: 0.6981 - accuracy: 0.7853\n",
            "1563/1563 [==============================] - 12s 7ms/step - loss: 1.2210 - accuracy: 0.6027\n",
            "1563/1563 [==============================] - 11s 7ms/step - loss: 1.1920 - accuracy: 0.6096\n",
            "1563/1563 [==============================] - 11s 7ms/step - loss: 1.2145 - accuracy: 0.6033\n",
            "1563/1563 [==============================] - 11s 7ms/step - loss: 1.1977 - accuracy: 0.6059\n",
            "782/782 [==============================] - 1s 2ms/step - loss: 0.6931 - accuracy: 0.7915\n",
            "1563/1563 [==============================] - 11s 7ms/step - loss: 1.2097 - accuracy: 0.6053\n",
            "1563/1563 [==============================] - 11s 7ms/step - loss: 1.2157 - accuracy: 0.6031\n",
            "782/782 [==============================] - 1s 1ms/step - loss: 0.6820 - accuracy: 0.7939\n",
            "782/782 [==============================] - 1s 1ms/step - loss: 0.7109 - accuracy: 0.7881\n",
            "1563/1563 [==============================] - 10s 6ms/step - loss: 1.2300 - accuracy: 0.5990\n",
            "782/782 [==============================] - 1s 1ms/step - loss: 0.6964 - accuracy: 0.7896\n",
            "1563/1563 [==============================] - 5s 3ms/step - loss: 1.1973 - accuracy: 0.6126\n",
            "782/782 [==============================] - 1s 787us/step - loss: 0.7159 - accuracy: 0.7866\n",
            "782/782 [==============================] - 1s 750us/step - loss: 0.6980 - accuracy: 0.7904\n",
            "782/782 [==============================] - 1s 869us/step - loss: 0.6832 - accuracy: 0.7941\n",
            "782/782 [==============================] - 1s 837us/step - loss: 0.7124 - accuracy: 0.7903\n",
            "2344/2344 [==============================] - 6s 2ms/step - loss: 0.5946 - accuracy: 0.8174\n"
          ]
        }
      ],
      "source": [
        "start=time()\n",
        "# Create and run Grid Search\n",
        "grid = GridSearchCV(estimator=model,\n",
        "                    param_grid=hyper_parameters,\n",
        "                    n_jobs=-2,\n",
        "                    verbose=1,\n",
        "                    cv=3)\n",
        "\n",
        "grid_result = grid.fit(X_train, y_train)\n",
        "end=time()"
      ]
    },
    {
      "cell_type": "code",
      "execution_count": null,
      "metadata": {
        "id": "Vg4ifWNtBfGo",
        "tags": [],
        "outputId": "6ca30953-c4cd-4711-b807-8c96b17392ca"
      },
      "outputs": [
        {
          "name": "stdout",
          "output_type": "stream",
          "text": [
            "Gridsearch runtime 2.59 mins\n"
          ]
        }
      ],
      "source": [
        "print(\"Gridsearch runtime {0:.3} mins\".format( (end-start)/60 ))"
      ]
    },
    {
      "cell_type": "code",
      "execution_count": null,
      "metadata": {
        "id": "CqO15wkmBfGo",
        "tags": []
      },
      "outputs": [],
      "source": [
        "# use the mean accuracy from the CV splits for determining best model score\n",
        "means = grid.cv_results_['mean_test_score']\n",
        "stds = grid.cv_results_['std_test_score']\n",
        "params = grid.cv_results_['params']"
      ]
    },
    {
      "cell_type": "markdown",
      "metadata": {
        "id": "2-v92GwGBfGo"
      },
      "source": [
        "Since there are 2 independent hyperparameters which affect the validation accuracy (`dropout_prob` and `maxnorm_wc`), <br>\n",
        "we need a two-dimensional plot. A heat map will work."
      ]
    },
    {
      "cell_type": "code",
      "execution_count": null,
      "metadata": {
        "id": "I-W5UmNcBfGp",
        "tags": []
      },
      "outputs": [],
      "source": [
        "dropout_prob_list = [  param_dict[\"dropout_prob\"]  for param_dict in params]\n",
        "maxnorm_wc_list = [  param_dict[\"maxnorm_wc\"]  for param_dict in params]\n",
        "data = [means, dropout_prob_list, maxnorm_wc_list ]\n",
        "\n",
        "cols = [\"val_acc\", \"dropout_prob\", \"maxnorm_wc\"]\n",
        "df_exp3 =pd.DataFrame(data=data).T\n",
        "df_exp3.columns = cols\n",
        "df_exp3.dropout_prob = df_exp3.dropout_prob.round(2)\n",
        "\n",
        "# pivot dataframe in preparation for heat map\n",
        "df_exp3 = df_exp3.pivot(index=\"maxnorm_wc\", columns=\"dropout_prob\", values=\"val_acc\")"
      ]
    },
    {
      "cell_type": "code",
      "execution_count": null,
      "metadata": {
        "id": "FqilXbTYBfGp",
        "tags": [],
        "outputId": "2c73a95e-9329-4648-d773-1efb420739d6"
      },
      "outputs": [
        {
          "data": {
            "image/png": "[encoded data removed]",
            "text/plain": [
              "<Figure size 1800x800 with 2 Axes>"
            ]
          },
          "metadata": {},
          "output_type": "display_data"
        }
      ],
      "source": [
        "# Draw a heatmap with the val_acc values in each cell\n",
        "f, ax = plt.subplots(figsize=(18, 8))\n",
        "sns.heatmap(df_exp3, annot=True,  linewidths=.5, ax=ax);"
      ]
    },
    {
      "cell_type": "markdown",
      "metadata": {
        "id": "9dTgA0LEBfGp"
      },
      "source": [
        "### Observations\n",
        "\n",
        "We can see the dropout probabilities in the horizontal axis and the `MaxNorm` weight constraint values in the vertical axis. The values in the cells are the validation accuracy that corresponds to a pair of regularization values.\n",
        "\n",
        "Take a look at the heat map and answer the following questions. Note that depending on which model you used (the simple or complex one) your answers might be different from that of others."
      ]
    },
    {
      "cell_type": "markdown",
      "metadata": {
        "id": "uz1meXeiBfGp"
      },
      "source": [
        "**What range of dropout probability values tend to produce the highest validation accuracy?**"
      ]
    },
    {
      "cell_type": "markdown",
      "metadata": {
        "deletable": false,
        "id": "xjxa3AaoBfGp",
        "nbgrader": {
          "cell_type": "markdown",
          "checksum": "0f0013d4e07104a03b4d51664a308f53",
          "grade": true,
          "grade_id": "cell-4e0cb7a9240b1531",
          "locked": false,
          "points": 0,
          "schema_version": 3,
          "solution": true,
          "task": false
        }
      },
      "source": [
        "Low, 0-0.15"
      ]
    },
    {
      "cell_type": "markdown",
      "metadata": {
        "id": "yiha7_G-BfGp"
      },
      "source": [
        "**What range of maxnorm weight constraints tend to produce the highest validation accuracy?**"
      ]
    },
    {
      "cell_type": "markdown",
      "metadata": {
        "deletable": false,
        "id": "ftoVpYqIBfGp",
        "nbgrader": {
          "cell_type": "markdown",
          "checksum": "9fd88f0bb870a910b925d60b38d17694",
          "grade": true,
          "grade_id": "cell-99539755d7d328f7",
          "locked": false,
          "points": 0,
          "schema_version": 3,
          "solution": true,
          "task": false
        }
      },
      "source": [
        "Values >= 1.625"
      ]
    },
    {
      "cell_type": "markdown",
      "metadata": {
        "id": "4M7ZARjJBfGp"
      },
      "source": [
        "**When taken together, what combinations of dropout probability and maxnorm weight constraints tend to produce the highest validation accuracy?**"
      ]
    },
    {
      "cell_type": "markdown",
      "metadata": {
        "deletable": false,
        "id": "rakqIiHNBfGq",
        "nbgrader": {
          "cell_type": "markdown",
          "checksum": "fee1e09ed8f6d354bd7b6e2986c2b811",
          "grade": true,
          "grade_id": "cell-5e19a56b4a2d975d",
          "locked": false,
          "points": 0,
          "schema_version": 3,
          "solution": true,
          "task": false
        }
      },
      "source": [
        "dropout = 0, mn = 5"
      ]
    },
    {
      "cell_type": "markdown",
      "metadata": {
        "id": "VnwcQRx3BfGr"
      },
      "source": [
        "**Do you think that using dropout was helpful in increasing model performance?**"
      ]
    },
    {
      "cell_type": "markdown",
      "metadata": {
        "deletable": false,
        "id": "mtdlzA8WBfGr",
        "nbgrader": {
          "cell_type": "markdown",
          "checksum": "de9c1bcff3c5eb6266cc80632d0956f0",
          "grade": true,
          "grade_id": "cell-d2a2f7b284c801dc",
          "locked": false,
          "points": 0,
          "schema_version": 3,
          "solution": true,
          "task": false
        }
      },
      "source": [
        "In this circumstance, dropout did not appear to help"
      ]
    },
    {
      "cell_type": "markdown",
      "metadata": {
        "id": "r3qKJpF_BfGs"
      },
      "source": [
        "_____\n",
        "\n",
        "#Part 2: Model Deployment\n",
        "# Experiment 4: Train, Save, and Load a Keras model\n",
        "\n",
        "Let's get some practice with how to save and load trained Keras models\n",
        "\n",
        "For this experiment, review the section on Saving and Loading models from the guided project, then:\n",
        "\n",
        "- Build a model of your choosing\n",
        "- Gridsearch the model with a method of your choosing\n",
        "- Save the trained model to a file\n",
        "- Load the trained model from the file\n",
        "- Just as we did in the Guided Project, evaluate the loaded model using a test set and verify that the results of the loaded model match that of the original model that was saved."
      ]
    },
    {
      "cell_type": "code",
      "execution_count": null,
      "metadata": {
        "id": "aki0LkDpBfGs",
        "tags": []
      },
      "outputs": [],
      "source": [
        "checkpoint_filepath = \"./weights_best.h5\"\n",
        "checkpoint_callback = tf.keras.callbacks.ModelCheckpoint(\n",
        "    filepath=checkpoint_filepath,\n",
        "    save_weights_only=True,\n",
        "    monitor='val_accuracy',\n",
        "    mode='max',\n",
        "    verbose=1,\n",
        "    save_best_only=True)"
      ]
    },
    {
      "cell_type": "code",
      "execution_count": null,
      "metadata": {
        "tags": [],
        "id": "K33mO2VyIJt7",
        "outputId": "832d48a2-23d0-4ac8-e6c6-ae1e0cae8967"
      },
      "outputs": [
        {
          "name": "stdout",
          "output_type": "stream",
          "text": [
            "Epoch 1/3\n",
            "2343/2344 [============================>.] - ETA: 0s - loss: 0.6145 - accuracy: 0.8148\n",
            "Epoch 1: val_accuracy improved from -inf to 0.85236, saving model to ./weights_best.h5\n",
            "2344/2344 [==============================] - 6s 2ms/step - loss: 0.6144 - accuracy: 0.8148 - val_loss: 0.4986 - val_accuracy: 0.8524\n",
            "Epoch 2/3\n",
            "2344/2344 [==============================] - ETA: 0s - loss: 0.4398 - accuracy: 0.8711\n",
            "Epoch 2: val_accuracy improved from 0.85236 to 0.86388, saving model to ./weights_best.h5\n",
            "2344/2344 [==============================] - 5s 2ms/step - loss: 0.4398 - accuracy: 0.8711 - val_loss: 0.4822 - val_accuracy: 0.8639\n",
            "Epoch 3/3\n",
            "2330/2344 [============================>.] - ETA: 0s - loss: 0.3767 - accuracy: 0.8937\n",
            "Epoch 3: val_accuracy did not improve from 0.86388\n",
            "2344/2344 [==============================] - 6s 2ms/step - loss: 0.3761 - accuracy: 0.8939 - val_loss: 0.5075 - val_accuracy: 0.8636\n"
          ]
        },
        {
          "data": {
            "text/plain": [
              "<keras.callbacks.History at 0x2923db9d0>"
            ]
          },
          "execution_count": 79,
          "metadata": {},
          "output_type": "execute_result"
        }
      ],
      "source": [
        "my_model = build_complex_model(Lp_reg=l2, reg_penalty=0.00001)\n",
        "my_model.fit(X_train, y_train,\n",
        "             epochs=3,\n",
        "             validation_data=(X_test,y_test),\n",
        "             verbose=1,\n",
        "             callbacks=[checkpoint_callback])"
      ]
    },
    {
      "cell_type": "code",
      "execution_count": null,
      "metadata": {
        "tags": [],
        "id": "Z4svyIxQIJt7",
        "outputId": "d3530a48-3ea7-4147-b98e-b125ae2fd634"
      },
      "outputs": [
        {
          "name": "stdout",
          "output_type": "stream",
          "text": [
            "782/782 [==============================] - 1s 851us/step - loss: 2.3269 - accuracy: 0.0902\n"
          ]
        },
        {
          "data": {
            "text/plain": [
              "[2.326885223388672, 0.0902400016784668]"
            ]
          },
          "execution_count": 80,
          "metadata": {},
          "output_type": "execute_result"
        }
      ],
      "source": [
        "test_model = build_complex_model(Lp_reg=l2, reg_penalty=0.00001)\n",
        "test_model.evaluate(X_test, y_test)"
      ]
    },
    {
      "cell_type": "code",
      "execution_count": null,
      "metadata": {
        "tags": [],
        "id": "7-_tsm45IJt7",
        "outputId": "8608406e-ff93-4876-ead7-3292b379377a"
      },
      "outputs": [
        {
          "name": "stdout",
          "output_type": "stream",
          "text": [
            "782/782 [==============================] - 1s 817us/step - loss: 0.4822 - accuracy: 0.8639\n"
          ]
        },
        {
          "data": {
            "text/plain": [
              "[0.4822070598602295, 0.8638799786567688]"
            ]
          },
          "execution_count": 81,
          "metadata": {},
          "output_type": "execute_result"
        }
      ],
      "source": [
        "test_model.load_weights('weights_best.h5')\n",
        "test_model.evaluate(X_test, y_test)"
      ]
    },
    {
      "cell_type": "code",
      "execution_count": null,
      "metadata": {
        "id": "as5MGEfpIJt7"
      },
      "outputs": [],
      "source": []
    }
  ],
  "metadata": {
    "accelerator": "GPU",
    "colab": {
      "provenance": []
    },
    "kernelspec": {
      "display_name": "Python 3 (ipykernel)",
      "language": "python",
      "name": "python3"
    },
    "language_info": {
      "codemirror_mode": {
        "name": "ipython",
        "version": 3
      },
      "file_extension": ".py",
      "mimetype": "text/x-python",
      "name": "python",
      "nbconvert_exporter": "python",
      "pygments_lexer": "ipython3",
      "version": "3.11.4"
    },
    "nteract": {
      "version": "0.22.4"
    }
  },
  "nbformat": 4,
  "nbformat_minor": 0
}