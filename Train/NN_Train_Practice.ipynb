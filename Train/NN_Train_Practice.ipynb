{
  "nbformat": 4,
  "nbformat_minor": 0,
  "metadata": {
    "celltoolbar": "Create Assignment",
    "colab": {
      "provenance": []
    },
    "kernelspec": {
      "display_name": "py37  (Python3)",
      "language": "python",
      "name": "py37"
    },
    "language_info": {
      "codemirror_mode": {
        "name": "ipython",
        "version": 3
      },
      "file_extension": ".py",
      "mimetype": "text/x-python",
      "name": "python",
      "nbconvert_exporter": "python",
      "pygments_lexer": "ipython3",
      "version": "3.7.0"
    },
    "nteract": {
      "version": "0.22.4"
    }
  },
  "cells": [
    {
      "cell_type": "markdown",
      "metadata": {
        "id": "NGGrt9EYlCqY"
      },
      "source": [
        "\n",
        "\n",
        "# Train Practice\n",
        "\n",
        "Continue to use TensorFlow Keras & a sample of the [Quickdraw dataset](https://github.com/googlecreativelab/quickdraw-dataset) to build a sketch classification model. The dataset has been sampled to only 10 classes and 10000 observations per class. Please build a baseline classification model then run a few experiments with different optimizers and learning rates.\n",
        "\n",
        "*Don't forget to switch to GPU on Colab!*\n",
        "\n",
        "\n",
        "------\n",
        "\n",
        "# Objective\n",
        "\n",
        "We are going to run a few experiments today\n",
        "\n",
        "- Train a model with and without normalized data and investigate the weight values and learning outcomes\n",
        "- Train a model with varying values for batch_size, learning_rate, and optimizers\n",
        "\n",
        "We are essentially running mannual gridsearches on our models. In module 3, we'll learn a few different ways to automate gridseach for deep learning."
      ]
    },
    {
      "cell_type": "code",
      "metadata": {
        "id": "OKaRCgExKCuy"
      },
      "source": [
        "import os\n",
        "import datetime\n",
        "import random\n",
        "\n",
        "import numpy as np\n",
        "import pandas as pd\n",
        "import matplotlib.pyplot as plt\n",
        "\n",
        "import tensorflow as tf\n",
        "from tensorflow.keras import Sequential\n",
        "from tensorflow.keras.layers import Dense, ReLU\n",
        "from sklearn.model_selection import train_test_split\n",
        "\n",
        "from tensorflow.keras.optimizers import Adam, SGD\n",
        "from tensorflow.keras.activations import relu\n",
        "from tensorflow.keras.callbacks import TensorBoard"
      ],
      "execution_count": 1,
      "outputs": []
    },
    {
      "cell_type": "code",
      "metadata": {
        "id": "rUwzM8EsKCu0"
      },
      "source": [
        "%matplotlib inline\n",
        "%load_ext tensorboard"
      ],
      "execution_count": 2,
      "outputs": []
    },
    {
      "cell_type": "markdown",
      "metadata": {
        "id": "mXKp4dx_KCu1"
      },
      "source": [
        "### Load data\n",
        "\n",
        "- Don't normalize your data just yet!"
      ]
    },
    {
      "cell_type": "code",
      "metadata": {
        "id": "nJsIsrvp7O3e"
      },
      "source": [
        "def load_quickdraw10():\n",
        "    \"\"\"\n",
        "    Fill out this doc string, and comment the code, for practice in writing the kind of code that will get you hired.\n",
        "    \"\"\"\n",
        "\n",
        "    URL_ = \"https://github.com/LambdaSchool/DS-Unit-4-Sprint-2-Neural-Networks/blob/main/quickdraw10.npz?raw=true\"\n",
        "\n",
        "    path_to_zip = tf.keras.utils.get_file('./quickdraw10.npz', origin=URL_, extract=False)\n",
        "\n",
        "    data = np.load(path_to_zip)\n",
        "\n",
        "    X = data['arr_0']\n",
        "    Y = data['arr_1']\n",
        "\n",
        "    return train_test_split(X, Y, shuffle=True)"
      ],
      "execution_count": 5,
      "outputs": []
    },
    {
      "cell_type": "code",
      "metadata": {
        "id": "e_a-FSTuKCu3",
        "colab": {
          "base_uri": "https://localhost:8080/"
        },
        "outputId": "9012da5a-7fd3-4868-9db4-77874174f3a2"
      },
      "source": [
        "X_train, X_test, y_train, y_test = load_quickdraw10()"
      ],
      "execution_count": 6,
      "outputs": [
        {
          "output_type": "stream",
          "name": "stdout",
          "text": [
            "Downloading data from https://github.com/LambdaSchool/DS-Unit-4-Sprint-2-Neural-Networks/blob/main/quickdraw10.npz?raw=true\n",
            "25421363/25421363 [==============================] - 0s 0us/step\n"
          ]
        }
      ]
    },
    {
      "cell_type": "code",
      "metadata": {
        "id": "RETUyom_KCu3"
      },
      "source": [
        "n_labels = len(np.unique(y_train))"
      ],
      "execution_count": 7,
      "outputs": []
    },
    {
      "cell_type": "markdown",
      "metadata": {
        "id": "l-6PxI6H5__2"
      },
      "source": [
        "----\n",
        "### Write a Model Function\n",
        "- Write a function called `create_model` which returns a compiled TensorFlow Keras Sequential Model suitable for classifying the QuickDraw-10 dataset.\n",
        "\n",
        "Your function `create_model` should accept the following parameters\n",
        "\n",
        "- Learning Rate `lr`\n",
        "- Optimizer `opt`\n",
        "\n",
        "\n",
        "Build a model with the following architecture and parameter values\n",
        "\n",
        "- Use `1 hidden layer`\n",
        "- Use `sigmoid` activation function in hidden layer\n",
        "- Use `250 nodes` in hidden layer\n",
        "- Use `10 nodes` in output layer\n",
        "- Use `softmax` activation fucntion in output layer\n",
        "- Use `sparse_categorical_crossentropy` loss function\n",
        "- Use `accuracy` as your metric\n",
        "\n",
        "We will use this function to build all the models that we'll need to run our experiments."
      ]
    },
    {
      "cell_type": "code",
      "metadata": {
        "id": "nEREYT-3wI1f",
        "nbgrader": {
          "grade": false,
          "grade_id": "cell-355125ca910bfedb",
          "locked": false,
          "schema_version": 3,
          "solution": true,
          "task": false
        }
      },
      "source": [
        "def create_model(lr=.01, opt=\"adam\"):\n",
        "    \"\"\"\n",
        "\n",
        "    Build and returns a compiled Keras model.\n",
        "\n",
        "    Parameters\n",
        "    ----------\n",
        "    lr: float\n",
        "        Learing rate parameter used for Stocastic Gradient Descent\n",
        "\n",
        "    opt: string\n",
        "        Name of optimizer to use\n",
        "        Valid options are \"adam\" and \"sgd\"\n",
        "\n",
        "    Returns\n",
        "    -------\n",
        "    model: keras object\n",
        "        A compiled keras model\n",
        "    \"\"\"\n",
        "\n",
        "    if opt == \"adam\":\n",
        "        opt = Adam(learning_rate=lr)\n",
        "    elif opt == \"sgd\":\n",
        "        opt = SGD(learning_rate=lr)\n",
        "    else:\n",
        "        print (\"{} is not a valid option. Defaulting to Adam optimizer\".format(opt))\n",
        "        opt = Adam(learning_rate=lr)\n",
        "\n",
        "### BEGIN SOLUTION\n",
        "    model = Sequential([\n",
        "                        Dense(250, activation='sigmoid', input_dim=784),\n",
        "                        Dense(10, activation='softmax')\n",
        "    ])\n",
        "\n",
        "    model.compile(optimizer=opt,\n",
        "                  loss='sparse_categorical_crossentropy',\n",
        "                  metrics=['accuracy'])\n",
        "\n",
        "    return model\n",
        "### END SOLUTION"
      ],
      "execution_count": 8,
      "outputs": []
    },
    {
      "cell_type": "code",
      "metadata": {
        "colab": {
          "base_uri": "https://localhost:8080/"
        },
        "id": "ipy6rPao70CJ",
        "outputId": "5637171c-34be-4d99-9ab3-bb9b7e310261"
      },
      "source": [
        "# check model architecture\n",
        "model = create_model()\n",
        "model.get_config()"
      ],
      "execution_count": 9,
      "outputs": [
        {
          "output_type": "execute_result",
          "data": {
            "text/plain": [
              "{'name': 'sequential',\n",
              " 'layers': [{'module': 'keras.layers',\n",
              "   'class_name': 'InputLayer',\n",
              "   'config': {'batch_input_shape': (None, 784),\n",
              "    'dtype': 'float32',\n",
              "    'sparse': False,\n",
              "    'ragged': False,\n",
              "    'name': 'dense_input'},\n",
              "   'registered_name': None},\n",
              "  {'module': 'keras.layers',\n",
              "   'class_name': 'Dense',\n",
              "   'config': {'name': 'dense',\n",
              "    'trainable': True,\n",
              "    'dtype': 'float32',\n",
              "    'batch_input_shape': (None, 784),\n",
              "    'units': 250,\n",
              "    'activation': 'sigmoid',\n",
              "    'use_bias': True,\n",
              "    'kernel_initializer': {'module': 'keras.initializers',\n",
              "     'class_name': 'GlorotUniform',\n",
              "     'config': {'seed': None},\n",
              "     'registered_name': None},\n",
              "    'bias_initializer': {'module': 'keras.initializers',\n",
              "     'class_name': 'Zeros',\n",
              "     'config': {},\n",
              "     'registered_name': None},\n",
              "    'kernel_regularizer': None,\n",
              "    'bias_regularizer': None,\n",
              "    'activity_regularizer': None,\n",
              "    'kernel_constraint': None,\n",
              "    'bias_constraint': None},\n",
              "   'registered_name': None,\n",
              "   'build_config': {'input_shape': (None, 784)}},\n",
              "  {'module': 'keras.layers',\n",
              "   'class_name': 'Dense',\n",
              "   'config': {'name': 'dense_1',\n",
              "    'trainable': True,\n",
              "    'dtype': 'float32',\n",
              "    'units': 10,\n",
              "    'activation': 'softmax',\n",
              "    'use_bias': True,\n",
              "    'kernel_initializer': {'module': 'keras.initializers',\n",
              "     'class_name': 'GlorotUniform',\n",
              "     'config': {'seed': None},\n",
              "     'registered_name': None},\n",
              "    'bias_initializer': {'module': 'keras.initializers',\n",
              "     'class_name': 'Zeros',\n",
              "     'config': {},\n",
              "     'registered_name': None},\n",
              "    'kernel_regularizer': None,\n",
              "    'bias_regularizer': None,\n",
              "    'activity_regularizer': None,\n",
              "    'kernel_constraint': None,\n",
              "    'bias_constraint': None},\n",
              "   'registered_name': None,\n",
              "   'build_config': {'input_shape': (None, 250)}}]}"
            ]
          },
          "metadata": {},
          "execution_count": 9
        }
      ]
    },
    {
      "cell_type": "code",
      "metadata": {
        "id": "Se3fcaQgKCu5"
      },
      "source": [
        "# check the number of layers\n",
        "n_layers = len(model.get_config()[\"layers\"])\n",
        "\n",
        "# check the activation function of the last layer\n",
        "output_act_funct =  model.get_config()[\"layers\"][-1][\"config\"][\"activation\"]\n",
        "\n",
        "# test for expected output\n",
        "assert n_layers == 3, \"You should have an input, one hidden, and an output layer\"\n",
        "assert output_act_funct == \"softmax\", \"Output activation function should be softmax\""
      ],
      "execution_count": 10,
      "outputs": []
    },
    {
      "cell_type": "markdown",
      "metadata": {
        "id": "bnupNP7qKCu6"
      },
      "source": [
        "------\n",
        "\n",
        "# Experiment #1: How does normalized input data affect our model's learning outcome?\n",
        "\n",
        "In this experiment we are going to answer the above question by training a model on both a normalized data set and on a non-normalized data set.\n",
        "\n",
        "Then we will compare and analyze the trained weight values for the two cases."
      ]
    },
    {
      "cell_type": "code",
      "metadata": {
        "id": "upvoyAN6KCu7"
      },
      "source": [
        "# Clear any logs from previous runs\n",
        "!rm -rf ./logs/"
      ],
      "execution_count": 11,
      "outputs": []
    },
    {
      "cell_type": "markdown",
      "metadata": {
        "id": "yBccdSQ-KCu7"
      },
      "source": [
        "### Fit Model on Non-Normalized data"
      ]
    },
    {
      "cell_type": "code",
      "metadata": {
        "id": "109DmKCLKCu7",
        "colab": {
          "base_uri": "https://localhost:8080/"
        },
        "outputId": "dd213dc3-a364-4c3e-e5a8-c81bb47a0b1b"
      },
      "source": [
        "%%time\n",
        "# fit model on non-normalized data\n",
        "\n",
        "now = datetime.datetime.now().strftime(\"%Y%m%d-%H%M%S\")\n",
        "logdir = os.path.join(\"logs\", f\"No_Normalization-{now}\")\n",
        "tensorboard = TensorBoard(log_dir=logdir,  histogram_freq=1)\n",
        "\n",
        "model = create_model(lr=.001, opt=\"adam\")\n",
        "\n",
        "model.fit(X_train, y_train,\n",
        "          validation_data=(X_test, y_test),\n",
        "          workers=-2,\n",
        "          epochs=10,\n",
        "          batch_size=32,\n",
        "          verbose=1,\n",
        "          callbacks=[tensorboard])"
      ],
      "execution_count": 12,
      "outputs": [
        {
          "output_type": "stream",
          "name": "stdout",
          "text": [
            "Epoch 1/10\n",
            "2344/2344 [==============================] - 18s 7ms/step - loss: 0.9499 - accuracy: 0.7053 - val_loss: 0.8334 - val_accuracy: 0.7411\n",
            "Epoch 2/10\n",
            "2344/2344 [==============================] - 18s 8ms/step - loss: 0.8207 - accuracy: 0.7452 - val_loss: 0.7956 - val_accuracy: 0.7570\n",
            "Epoch 3/10\n",
            "2344/2344 [==============================] - 18s 8ms/step - loss: 0.7900 - accuracy: 0.7548 - val_loss: 0.7662 - val_accuracy: 0.7614\n",
            "Epoch 4/10\n",
            "2344/2344 [==============================] - 17s 7ms/step - loss: 0.7525 - accuracy: 0.7659 - val_loss: 0.7384 - val_accuracy: 0.7753\n",
            "Epoch 5/10\n",
            "2344/2344 [==============================] - 18s 8ms/step - loss: 0.7402 - accuracy: 0.7705 - val_loss: 0.7505 - val_accuracy: 0.7656\n",
            "Epoch 6/10\n",
            "2344/2344 [==============================] - 18s 8ms/step - loss: 0.7256 - accuracy: 0.7759 - val_loss: 0.7151 - val_accuracy: 0.7809\n",
            "Epoch 7/10\n",
            "2344/2344 [==============================] - 17s 7ms/step - loss: 0.7091 - accuracy: 0.7812 - val_loss: 0.7256 - val_accuracy: 0.7747\n",
            "Epoch 8/10\n",
            "2344/2344 [==============================] - 18s 8ms/step - loss: 0.6954 - accuracy: 0.7856 - val_loss: 0.6896 - val_accuracy: 0.7892\n",
            "Epoch 9/10\n",
            "2344/2344 [==============================] - 17s 7ms/step - loss: 0.6978 - accuracy: 0.7833 - val_loss: 0.6872 - val_accuracy: 0.7881\n",
            "Epoch 10/10\n",
            "2344/2344 [==============================] - 18s 8ms/step - loss: 0.6898 - accuracy: 0.7874 - val_loss: 0.6933 - val_accuracy: 0.7852\n",
            "CPU times: user 3min 21s, sys: 12.3 s, total: 3min 34s\n",
            "Wall time: 3min 22s\n"
          ]
        },
        {
          "output_type": "execute_result",
          "data": {
            "text/plain": [
              "<keras.src.callbacks.History at 0x7c859b3afe80>"
            ]
          },
          "metadata": {},
          "execution_count": 12
        }
      ]
    },
    {
      "cell_type": "markdown",
      "metadata": {
        "id": "5mayGmaPKCu8"
      },
      "source": [
        "---------\n",
        "\n",
        "### Fit Model on Normalized data"
      ]
    },
    {
      "cell_type": "code",
      "metadata": {
        "nbgrader": {
          "grade": false,
          "grade_id": "cell-2792e5f1fbf02c67",
          "locked": false,
          "schema_version": 3,
          "solution": true,
          "task": false
        },
        "id": "nMaI9a0IKCu9"
      },
      "source": [
        "# Normalize your training and test sets\n",
        "# save normalized data to variables X_train_scaled and X_test_scaled\n",
        "\n",
        "###BEGIN SOLUTION\n",
        "X_train_scaled = X_train/X_train.max()\n",
        "X_test_scaled = X_test/X_test.max()\n",
        "\n",
        "###END SOLUTION"
      ],
      "execution_count": 13,
      "outputs": []
    },
    {
      "cell_type": "code",
      "metadata": {
        "id": "blTsx1SVKCu9",
        "colab": {
          "base_uri": "https://localhost:8080/"
        },
        "outputId": "c405fc8b-43bc-4145-b4e1-591d75d218ad"
      },
      "source": [
        "%%time\n",
        "# train model on normalized data\n",
        "\n",
        "now = datetime.datetime.now().strftime(\"%Y%m%d-%H%M%S\")\n",
        "logdir = os.path.join(\"logs\", f\"Normalization-{now}\")\n",
        "tensorboard = TensorBoard(log_dir=logdir,  histogram_freq=1)\n",
        "\n",
        "norm_model = create_model(lr=0.001, opt=\"adam\")\n",
        "\n",
        "norm_model.fit(X_train_scaled, y_train,\n",
        "          validation_data=(X_test_scaled, y_test),\n",
        "          workers=-2,\n",
        "          epochs=10,\n",
        "          batch_size=32,\n",
        "          verbose=1,\n",
        "          callbacks=[tensorboard])"
      ],
      "execution_count": 14,
      "outputs": [
        {
          "output_type": "stream",
          "name": "stdout",
          "text": [
            "Epoch 1/10\n",
            "2344/2344 [==============================] - 22s 9ms/step - loss: 0.7747 - accuracy: 0.7703 - val_loss: 0.6179 - val_accuracy: 0.8198\n",
            "Epoch 2/10\n",
            "2344/2344 [==============================] - 18s 8ms/step - loss: 0.5534 - accuracy: 0.8348 - val_loss: 0.5187 - val_accuracy: 0.8480\n",
            "Epoch 3/10\n",
            "2344/2344 [==============================] - 19s 8ms/step - loss: 0.4694 - accuracy: 0.8601 - val_loss: 0.4716 - val_accuracy: 0.8598\n",
            "Epoch 4/10\n",
            "2344/2344 [==============================] - 19s 8ms/step - loss: 0.4123 - accuracy: 0.8775 - val_loss: 0.4508 - val_accuracy: 0.8668\n",
            "Epoch 5/10\n",
            "2344/2344 [==============================] - 18s 8ms/step - loss: 0.3704 - accuracy: 0.8899 - val_loss: 0.4404 - val_accuracy: 0.8689\n",
            "Epoch 6/10\n",
            "2344/2344 [==============================] - 19s 8ms/step - loss: 0.3358 - accuracy: 0.9010 - val_loss: 0.4253 - val_accuracy: 0.8734\n",
            "Epoch 7/10\n",
            "2344/2344 [==============================] - 19s 8ms/step - loss: 0.3052 - accuracy: 0.9104 - val_loss: 0.4229 - val_accuracy: 0.8747\n",
            "Epoch 8/10\n",
            "2344/2344 [==============================] - 19s 8ms/step - loss: 0.2772 - accuracy: 0.9186 - val_loss: 0.4228 - val_accuracy: 0.8779\n",
            "Epoch 9/10\n",
            "2344/2344 [==============================] - 17s 7ms/step - loss: 0.2524 - accuracy: 0.9264 - val_loss: 0.4200 - val_accuracy: 0.8783\n",
            "Epoch 10/10\n",
            "2344/2344 [==============================] - 17s 7ms/step - loss: 0.2290 - accuracy: 0.9334 - val_loss: 0.4273 - val_accuracy: 0.8759\n",
            "CPU times: user 3min 30s, sys: 13.1 s, total: 3min 43s\n",
            "Wall time: 3min 23s\n"
          ]
        },
        {
          "output_type": "execute_result",
          "data": {
            "text/plain": [
              "<keras.src.callbacks.History at 0x7c859a840a30>"
            ]
          },
          "metadata": {},
          "execution_count": 14
        }
      ]
    },
    {
      "cell_type": "markdown",
      "metadata": {
        "id": "WSqziDWiKCu-"
      },
      "source": [
        "### Each layer is labeled\n",
        "\n",
        "Take note of the label for each layer in the network. It is these labels that will help you identify the corresponding bias and weight distribtuions on tensorboard.\n",
        "\n",
        "Assuming that you've run `create_model` 3 times: once for the model check, once to create `model`, and once to create `norm_model`:\n",
        "\n",
        "The name of the layers for `model` should be\n",
        "- dense_2\n",
        "- dense_3\n",
        "\n",
        "The name of the layers for `norm_model` should be\n",
        "- dense_4\n",
        "- dense_5\n",
        "\n",
        "\n",
        "If you keep retraining one or both of these models, tensorflow will increment the integer used in the layer names.  But that doesn't really matter, just take notice of the layer names so you can find their corresponding bias and weight distribtuions in tensorboard.\n",
        "\n",
        "**Pro Tip:** If you want to reset the integer incrementation that tensorflow uses, you'll need to restart your notebook's kernel."
      ]
    },
    {
      "cell_type": "code",
      "metadata": {
        "id": "Gz3hFE6wKCu_",
        "colab": {
          "base_uri": "https://localhost:8080/"
        },
        "outputId": "8f26cad2-d40e-4e5c-8c6c-6044dae5e554"
      },
      "source": [
        "model.summary()"
      ],
      "execution_count": 15,
      "outputs": [
        {
          "output_type": "stream",
          "name": "stdout",
          "text": [
            "Model: \"sequential_1\"\n",
            "_________________________________________________________________\n",
            " Layer (type)                Output Shape              Param #   \n",
            "=================================================================\n",
            " dense_2 (Dense)             (None, 250)               196250    \n",
            "                                                                 \n",
            " dense_3 (Dense)             (None, 10)                2510      \n",
            "                                                                 \n",
            "=================================================================\n",
            "Total params: 198760 (776.41 KB)\n",
            "Trainable params: 198760 (776.41 KB)\n",
            "Non-trainable params: 0 (0.00 Byte)\n",
            "_________________________________________________________________\n"
          ]
        }
      ]
    },
    {
      "cell_type": "code",
      "metadata": {
        "id": "pokk3eEFKCu_",
        "outputId": "82d1132e-b4d6-4791-82e1-0aeb2a1162a5",
        "colab": {
          "base_uri": "https://localhost:8080/"
        }
      },
      "source": [
        "norm_model.summary()"
      ],
      "execution_count": 16,
      "outputs": [
        {
          "output_type": "stream",
          "name": "stdout",
          "text": [
            "Model: \"sequential_2\"\n",
            "_________________________________________________________________\n",
            " Layer (type)                Output Shape              Param #   \n",
            "=================================================================\n",
            " dense_4 (Dense)             (None, 250)               196250    \n",
            "                                                                 \n",
            " dense_5 (Dense)             (None, 10)                2510      \n",
            "                                                                 \n",
            "=================================================================\n",
            "Total params: 198760 (776.41 KB)\n",
            "Trainable params: 198760 (776.41 KB)\n",
            "Non-trainable params: 0 (0.00 Byte)\n",
            "_________________________________________________________________\n"
          ]
        }
      ]
    },
    {
      "cell_type": "markdown",
      "metadata": {
        "id": "kCt6xMIog0Pk"
      },
      "source": [
        "### How to calculate the number of parameters in a neural network layer\n",
        "Let's verify that the `dense_2` layer has 196250 parameters.<br>\n",
        "The `dense_2` layer has $250$ neurons (also called units or nodes).<br>\n",
        "Each neuron has a weights vector and a scalar bias.<br><br>\n",
        "**Question:** How many weights does each neuron have?<br><br>\n",
        "**Answer:** The number of a neuron's weights is equal to its number of inputs. <br>\n",
        "The input to each neuron in this layer is a $28\\times 28$ image, <br>composed of $784~(=~28^2)$ pixel values. <br>\n",
        "Each neuron has $784$ inputs, and therefore $784$ weights.<br><br>\n",
        "So the total number of parameters in the `dense_2` layer is<br><br>\n",
        "$N_{dense\\_2} = 250~~\\text{neurons} \\times (784~\\text{weights per neuron} + 1 ~ \\text{bias per neuron}) = 196250$"
      ]
    },
    {
      "cell_type": "code",
      "metadata": {
        "colab": {
          "base_uri": "https://localhost:8080/"
        },
        "id": "Qow3iN0NWf-t",
        "outputId": "ba401bd8-81c3-415e-8152-977b08db4f14"
      },
      "source": [
        "250*(784+1)"
      ],
      "execution_count": 17,
      "outputs": [
        {
          "output_type": "execute_result",
          "data": {
            "text/plain": [
              "196250"
            ]
          },
          "metadata": {},
          "execution_count": 17
        }
      ]
    },
    {
      "cell_type": "markdown",
      "metadata": {
        "id": "lytQz0ZnpSVJ"
      },
      "source": [
        "### Now your turn: can you verify that the number of parameters in the `dense_3` layer is $2510$?"
      ]
    },
    {
      "cell_type": "markdown",
      "metadata": {
        "id": "Bd71Zn9D4Bsp"
      },
      "source": [
        "### Your Explanation Here\n",
        "$N_{dense\\_3} = 10~~\\text{neurons} \\times (250~\\text{weights per neuron} + 1 ~ \\text{bias per neuron}) = 2510$"
      ]
    },
    {
      "cell_type": "markdown",
      "metadata": {
        "id": "DRvgR5r7KCvA"
      },
      "source": [
        "### Tensorboard\n",
        "\n",
        "- Run the cell below to launch tensorboard\n",
        "- Click on the `SCALARS` tab to see plots that compare the loss and accuracy between the two models\n",
        "- Cick on the `HISTOGRAMS` tab to see the distribution of the learned weights"
      ]
    },
    {
      "cell_type": "code",
      "metadata": {
        "id": "rgA_qtUeKCvA"
      },
      "source": [
        "%tensorboard --logdir logs"
      ],
      "execution_count": null,
      "outputs": []
    },
    {
      "cell_type": "markdown",
      "metadata": {
        "id": "-1IvsxUrKCvA"
      },
      "source": [
        "### Tensorboard\n",
        "\n",
        "Check out the loss and accuracy plots on the `SCALARS` tab.\n",
        "\n",
        "What you should see is that the accuracy is much higher for the model that was given normalized data; conversely, the loss is much lower for the model that was given normalized data.\n",
        "\n",
        "Recall that during training, the model is adjusting the value of the bias and weights in each layer. For simplicity of analysis, we only trained two layers: a hidden layer and the output layer.\n",
        "\n",
        "Now click on the `HISTOGRAM` tab.\n",
        "\n",
        "You should see both of your model's layer names.\n",
        "\n",
        "### Hidden Layer Distributions\n",
        "\n",
        "Collapse the charts that correspond to the output layer so only the distributions for the weights and bias in the hidden layer are showing. (i.e. Only expand `dense_2` and `dense_4`).\n",
        "\n",
        "Also don't be confused by the word `kernel`, that's just the word that Tensorflow uses instead of weights. So, to be clear, **the kernel distributions are the weight values.**\n",
        "\n",
        "The `bias` distributions are the bias values.\n",
        "\n",
        "You should see 10 distributions stacked next to each other, **one distribution per epoch.**\n",
        "\n",
        "The distribution at the far back corresponds to the weight values at epoch 1 (tensorflow starts the count at 0, like the index for a list). The distribution at the very front corresponds to the weight values at the 10th epoch (tensorflow indexing shows 9 instead of 10).\n",
        "\n",
        "Notice how the shape of the distribution changes accross epochs? That's because their **values are being updated via Gradient Descent.**!\n",
        "\n",
        "The distributions that you see are direclty responsible for the validation accuracy of our models. The reason why they look different between the two models is because one model was given normalized data and one wasn't. So you can conclude that the weight distributions in `dense_4` produce a higher validation accuracy than the weight distributions in `dense_2`.\n",
        "\n",
        "Now it's time to analyze those weight values more closely."
      ]
    },
    {
      "cell_type": "markdown",
      "metadata": {
        "id": "NllljtrTKCvB"
      },
      "source": [
        "----------\n",
        "### Analyze Weights in Each Layer"
      ]
    },
    {
      "cell_type": "code",
      "metadata": {
        "id": "J0rwoPTnKCvB"
      },
      "source": [
        "# get the final bias and weight matrices for model\n",
        "layer = model.get_layer(name=\"dense_2\")\n",
        "bias, weights = layer.get_weights()"
      ],
      "execution_count": 19,
      "outputs": []
    },
    {
      "cell_type": "code",
      "metadata": {
        "id": "vU_TieroKCvC"
      },
      "source": [
        "# get the final  value bias and weight matrices for norm_moel\n",
        "layer = norm_model.get_layer(name=\"dense_4\")\n",
        "bias_norm, weights_norm = layer.get_weights()"
      ],
      "execution_count": 20,
      "outputs": []
    },
    {
      "cell_type": "code",
      "metadata": {
        "id": "v221BWniKCvC"
      },
      "source": [
        "# this line of code should not throw an error if the number of weights is the same for the hidden layer of both models\n",
        "# this line of code is known as a Unit Test\n",
        "assert weights.shape[0] == weights_norm.shape[0]"
      ],
      "execution_count": 21,
      "outputs": []
    },
    {
      "cell_type": "markdown",
      "metadata": {
        "id": "XLXYu_skKCvC"
      },
      "source": [
        "### Initial Weight Values\n",
        "\n",
        "By default, Keras dense layers randomly initialize the weight values using [**GlorotUniform**](https://keras.io/api/layers/initializers/).\n",
        "\n",
        "The cell below is sampling values from the `GlorotUniform` distribution. Let's sample from the `GlorotUniform` distribution and plot it in order to get a sense of the initial distribution of our weights - before Gradient Descent starts updating their values at training time."
      ]
    },
    {
      "cell_type": "code",
      "metadata": {
        "id": "zqxqmcEQKCvC"
      },
      "source": [
        "# let's take 250 random samples from GlorotUniform\n",
        "# because they are random samples their exact values might have been a little different for model and norm_model - but we will assume that they were not statistically different\n",
        "# 250 because that's how many weights are in the hidden layer for both of our models\n",
        "initializer = tf.keras.initializers.GlorotUniform(seed=42)\n",
        "initial_weight_values = initializer(shape=(1, 250))"
      ],
      "execution_count": 22,
      "outputs": []
    },
    {
      "cell_type": "code",
      "metadata": {
        "id": "9BUKamNNKCvD",
        "outputId": "6013227e-f14d-4a4c-b4a1-90edc185095d",
        "colab": {
          "base_uri": "https://localhost:8080/",
          "height": 500
        }
      },
      "source": [
        "plt.figure(figsize=(20,6))\n",
        "plt.title(\"Learned Weights in Hidden Layers\",fontsize=14)\n",
        "plt.xlabel(\"Weight Values\",fontsize=14)\n",
        "plt.grid()\n",
        "\n",
        "# by setting density=True, we are transforming our plots into probability distributions\n",
        "plt.hist(weights, bins=20, alpha=0.5, label=\"weights from model\", density=True);\n",
        "plt.hist(weights_norm, bins=20, alpha=0.5, label=\"weights from norm_model\", density=True);\n",
        "plt.hist(initial_weight_values, bins=20, alpha=0.5, label=\"Glorot Uniform initial weight values\", density=True);\n",
        "plt.legend(fontsize=\"x-large\");"
      ],
      "execution_count": 25,
      "outputs": [
        {
          "output_type": "display_data",
          "data": {
            "text/plain": [
              "<Figure size 2000x600 with 1 Axes>"
            ],
            "image/png": "[encoded data removed]"
          },
          "metadata": {}
        }
      ]
    },
    {
      "cell_type": "markdown",
      "metadata": {
        "id": "tj8vd8TgKCvD"
      },
      "source": [
        "### Observations\n",
        "\n",
        "Your plot should have 3 distributions\n",
        "\n",
        "- weights from model trained on non-normalized data\n",
        "- weights from model trained on normalized data\n",
        "- initial weight values sampled from a Glorot Uniform distributions\n",
        "\n",
        "Use the plot to answer the following questions."
      ]
    },
    {
      "cell_type": "markdown",
      "metadata": {
        "id": "r0O95iHvKCvD"
      },
      "source": [
        "**Comparing the initial weights with weights_from_model, what was the effect of not using normalized data?**"
      ]
    },
    {
      "cell_type": "markdown",
      "metadata": {
        "id": "vPBN8OE0KCvD"
      },
      "source": [
        "**Comparing the initial weights with weights_from_norm_model, what was the effect of using normalized data?**"
      ]
    },
    {
      "cell_type": "markdown",
      "metadata": {
        "id": "NHCIHDxyKCvF"
      },
      "source": [
        "----\n",
        "\n",
        "# Additional Experiments\n",
        "\n",
        "The previous experiment demonstrated the importance of normalizing our data in order to maximize model accuracy. In the next few experiments, we are going to explore the effects of varying Batch Size, Learning Rate, choice of Optimizer on model accuracy.\n",
        "\n",
        "Using our `create_model` model building function, conduct the following experiments."
      ]
    },
    {
      "cell_type": "markdown",
      "metadata": {
        "id": "f0pCkh8C7eGL"
      },
      "source": [
        "### Experiment with Batch Size\n",
        "* Run 5 experiments with various batch sizes of your choice.\n",
        "* Visualize the results\n",
        "* Write up an analysis of the experiments and select the \"best\" performing model among your experiments. Make sure to compare against your model's performance yesterday."
      ]
    },
    {
      "cell_type": "code",
      "metadata": {
        "id": "_SA144xx8Luf",
        "colab": {
          "base_uri": "https://localhost:8080/"
        },
        "outputId": "7ab38c5f-b427-49f9-dc46-5d60adecf965"
      },
      "source": [
        "norm_model = create_model(lr=0.001, opt=\"adam\")\n",
        "\n",
        "norm_model.fit(X_train_scaled, y_train,\n",
        "          validation_data=(X_test_scaled, y_test),\n",
        "          workers=-2,\n",
        "          epochs=10,\n",
        "          batch_size=50,\n",
        "          verbose=1,\n",
        "          callbacks=[tensorboard])"
      ],
      "execution_count": 26,
      "outputs": [
        {
          "output_type": "stream",
          "name": "stdout",
          "text": [
            "Epoch 1/10\n",
            "1500/1500 [==============================] - 14s 9ms/step - loss: 0.8142 - accuracy: 0.7593 - val_loss: 0.6538 - val_accuracy: 0.8103\n",
            "Epoch 2/10\n",
            "1500/1500 [==============================] - 14s 9ms/step - loss: 0.5906 - accuracy: 0.8247 - val_loss: 0.5490 - val_accuracy: 0.8385\n",
            "Epoch 3/10\n",
            "1500/1500 [==============================] - 13s 9ms/step - loss: 0.5021 - accuracy: 0.8515 - val_loss: 0.4966 - val_accuracy: 0.8541\n",
            "Epoch 4/10\n",
            "1500/1500 [==============================] - 13s 9ms/step - loss: 0.4451 - accuracy: 0.8681 - val_loss: 0.4654 - val_accuracy: 0.8623\n",
            "Epoch 5/10\n",
            "1500/1500 [==============================] - 13s 9ms/step - loss: 0.4029 - accuracy: 0.8802 - val_loss: 0.4475 - val_accuracy: 0.8671\n",
            "Epoch 6/10\n",
            "1500/1500 [==============================] - 13s 9ms/step - loss: 0.3687 - accuracy: 0.8905 - val_loss: 0.4374 - val_accuracy: 0.8701\n",
            "Epoch 7/10\n",
            "1500/1500 [==============================] - 14s 9ms/step - loss: 0.3392 - accuracy: 0.8995 - val_loss: 0.4281 - val_accuracy: 0.8744\n",
            "Epoch 8/10\n",
            "1500/1500 [==============================] - 13s 9ms/step - loss: 0.3116 - accuracy: 0.9081 - val_loss: 0.4302 - val_accuracy: 0.8726\n",
            "Epoch 9/10\n",
            "1500/1500 [==============================] - 12s 8ms/step - loss: 0.2887 - accuracy: 0.9151 - val_loss: 0.4206 - val_accuracy: 0.8764\n",
            "Epoch 10/10\n",
            "1500/1500 [==============================] - 12s 8ms/step - loss: 0.2668 - accuracy: 0.9218 - val_loss: 0.4313 - val_accuracy: 0.8755\n"
          ]
        },
        {
          "output_type": "execute_result",
          "data": {
            "text/plain": [
              "<keras.src.callbacks.History at 0x7c8594177010>"
            ]
          },
          "metadata": {},
          "execution_count": 26
        }
      ]
    },
    {
      "cell_type": "markdown",
      "metadata": {
        "id": "8b-r70o8p2Dm"
      },
      "source": [
        "### Experiment with Learning Rate\n",
        "* Run 5 experiments with various learning rate magnitudes: 1, 0.1, 0.01, 0.001, 0.0001.\n",
        "* Use the \"best\" batch size from the previous experiment\n",
        "* Visualize the results using `tensorboard`\n",
        "* Write up an analysis of the experiments and select the \"best\" performing model among your experiments. Make sure to compare against the previous experiments and your model's performance yesterday."
      ]
    },
    {
      "cell_type": "code",
      "source": [
        "norm_model = create_model(lr=0.0001, opt=\"adam\")\n",
        "\n",
        "norm_model.fit(X_train_scaled, y_train,\n",
        "          validation_data=(X_test_scaled, y_test),\n",
        "          workers=-2,\n",
        "          epochs=10,\n",
        "          batch_size=50,\n",
        "          verbose=1,\n",
        "          callbacks=[tensorboard])"
      ],
      "metadata": {
        "colab": {
          "base_uri": "https://localhost:8080/"
        },
        "id": "eg2Ud8I_fHZO",
        "outputId": "4e631038-2af3-4851-dbb1-b2528e444caa"
      },
      "execution_count": 27,
      "outputs": [
        {
          "output_type": "stream",
          "name": "stdout",
          "text": [
            "Epoch 1/10\n",
            "1500/1500 [==============================] - 12s 8ms/step - loss: 1.2314 - accuracy: 0.6688 - val_loss: 0.9376 - val_accuracy: 0.7336\n",
            "Epoch 2/10\n",
            "1500/1500 [==============================] - 13s 8ms/step - loss: 0.8792 - accuracy: 0.7467 - val_loss: 0.8364 - val_accuracy: 0.7583\n",
            "Epoch 3/10\n",
            "1500/1500 [==============================] - 13s 9ms/step - loss: 0.8088 - accuracy: 0.7643 - val_loss: 0.7878 - val_accuracy: 0.7710\n",
            "Epoch 4/10\n",
            "1500/1500 [==============================] - 12s 8ms/step - loss: 0.7657 - accuracy: 0.7766 - val_loss: 0.7510 - val_accuracy: 0.7838\n",
            "Epoch 5/10\n",
            "1500/1500 [==============================] - 12s 8ms/step - loss: 0.7314 - accuracy: 0.7869 - val_loss: 0.7225 - val_accuracy: 0.7908\n",
            "Epoch 6/10\n",
            "1500/1500 [==============================] - 13s 9ms/step - loss: 0.7020 - accuracy: 0.7955 - val_loss: 0.6973 - val_accuracy: 0.7996\n",
            "Epoch 7/10\n",
            "1500/1500 [==============================] - 13s 8ms/step - loss: 0.6758 - accuracy: 0.8030 - val_loss: 0.6740 - val_accuracy: 0.8072\n",
            "Epoch 8/10\n",
            "1500/1500 [==============================] - 12s 8ms/step - loss: 0.6529 - accuracy: 0.8097 - val_loss: 0.6544 - val_accuracy: 0.8136\n",
            "Epoch 9/10\n",
            "1500/1500 [==============================] - 11s 7ms/step - loss: 0.6323 - accuracy: 0.8157 - val_loss: 0.6358 - val_accuracy: 0.8176\n",
            "Epoch 10/10\n",
            "1500/1500 [==============================] - 13s 8ms/step - loss: 0.6134 - accuracy: 0.8211 - val_loss: 0.6202 - val_accuracy: 0.8226\n"
          ]
        },
        {
          "output_type": "execute_result",
          "data": {
            "text/plain": [
              "<keras.src.callbacks.History at 0x7c85940c7b20>"
            ]
          },
          "metadata": {},
          "execution_count": 27
        }
      ]
    },
    {
      "cell_type": "markdown",
      "metadata": {
        "id": "gxMtSRhV9Q7I"
      },
      "source": [
        "### Experiment with different Optimizers\n",
        "* Run 5 experiments with various optimizers available in TensorFlow. See documentation for [`tf.keras.optimizers`](https://www.tensorflow.org/api_docs/python/tf/keras/optimizers)\n",
        "* Visualize the results using `tensorboard`\n",
        "* Write up an analysis of the experiments and select the \"best\" performing model among your experiments. Make sure to compare against the previous experiments and your model's performance yesterday.\n",
        "* Repeat the experiment, this time combining Learning Rate and different optimizers in the same run. Does the best performing model change?"
      ]
    },
    {
      "cell_type": "code",
      "metadata": {
        "id": "ujLuzdNA91ip"
      },
      "source": [],
      "execution_count": null,
      "outputs": []
    },
    {
      "cell_type": "markdown",
      "metadata": {
        "id": "FwlRJSfBlCvy"
      },
      "source": [
        "------\n",
        "\n",
        "## Stretch Goals:\n",
        "\n",
        "- On the learning rate experiments, implement [EarlyStopping](https://keras.io/api/callbacks/early_stopping/)\n",
        "- Review the math of Gradient Descent."
      ]
    }
  ]
}